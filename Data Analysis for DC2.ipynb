{
 "cells": [
  {
   "cell_type": "code",
   "id": "440895fc",
   "metadata": {},
   "source": [
    "#1 Loading the Data\n",
    "import matplotlib.pyplot as plt\n",
    "import pandas as pd\n",
    "import os\n",
    "import numpy as np\n",
    "from datetime import datetime, timedelta\n",
    "if os.path.isdir('Graphs') == False:\n",
    "    os.mkdir('Graphs')\n",
    "burglar_df = pd.read_csv('Burglars.csv')"
   ],
   "outputs": [],
   "execution_count": null
  },
  {
   "cell_type": "code",
   "id": "934a7d13",
   "metadata": {},
   "source": [
    "#2 Grouping by LSOA\n",
    "groups = burglar_df.groupby('LSOA name')\n",
    "grouped_df = {name: df for name, df in groups}"
   ],
   "outputs": [],
   "execution_count": null
  },
  {
   "cell_type": "code",
   "id": "85f27dcb",
   "metadata": {},
   "source": [
    "#3 Define month-grabbing function:\n",
    "def get_per_month_count(unf_df, fil_df):\n",
    "    months = unf_df['Month'].unique()\n",
    "    per_month = {}\n",
    "    for i in months:\n",
    "        per_month[i] = len(fil_df[fil_df['Month'] == i])\n",
    "    return per_month"
   ],
   "outputs": [],
   "execution_count": null
  },
  {
   "cell_type": "code",
   "id": "a5dcbbe7",
   "metadata": {},
   "source": [
    "#4 Generating the per-month-year bar charts and dictionaries:\n",
    "LSOA_per_month = {}\n",
    "for i in grouped_df.keys():\n",
    "    df = grouped_df[i]\n",
    "    groups = df.groupby('Month')\n",
    "    month_df = get_per_month_count(burglar_df, df)\n",
    "    LSOA_per_month[i] = month_df\n",
    "    months = list(month_df.keys())\n",
    "    step = max(1, len(months) // 15)\n"
   ],
   "outputs": [],
   "execution_count": null
  },
  {
   "cell_type": "code",
   "id": "5bccc156",
   "metadata": {},
   "source": [
    "#5 Automatic Recency problem analysis: Define Capturing of Points and Gaps\n",
    "print(LSOA_per_month.keys())\n",
    "point_gap = {}\n",
    "for i in LSOA_per_month.keys():\n",
    "    df = LSOA_per_month[i]\n",
    "    gap = []\n",
    "    point = []\n",
    "    neither = []\n",
    "    for month in df.keys():\n",
    "        if df[month] == 0:\n",
    "            gap.append(month)\n",
    "        elif df[month] == 1:\n",
    "            point.append(month)\n",
    "        else:\n",
    "            neither.append(month)\n",
    "    point_gap[i] = (point, gap, neither)\n",
    "    print(f'LSOA {i}')\n"
   ],
   "outputs": [],
   "execution_count": null
  },
  {
   "cell_type": "code",
   "id": "ac187505",
   "metadata": {},
   "source": [
    "durations = {}\n",
    "df = burglar_df['Month'].unique()\n",
    "len_ = len(point_gap.keys())\n",
    "count = 0\n",
    "prevp = 0\n",
    "for i in point_gap.keys():\n",
    "    print(i)\n",
    "    distance = []\n",
    "    point = point_gap[i][0]\n",
    "    gap = point_gap[i][1]\n",
    "    neither = point_gap[i][2]\n",
    "    for month in df:\n",
    "        if month in point:\n",
    "            to_gap = 0\n",
    "            dt_month = datetime.strptime(month, '%Y-%m')\n",
    "            gap_c = [datetime.strptime(date, '%Y-%m') for date in gap]\n",
    "            for j in range(12):\n",
    "                current_date = dt_month + timedelta(days=30*j)  # adding approximately a month each time\n",
    "\n",
    "                # Check if the current date is in the gap list\n",
    "                if current_date in gap_c:\n",
    "                    current_string = current_date.strftime('%Y-%m')\n",
    "                    print(f'Point at {month}, Gap at {current_string}.')\n",
    "                    distance.append((dt_month, to_gap))\n",
    "                    break\n",
    "                else:\n",
    "                    to_gap += 1\n",
    "    durations[i] = distance\n",
    "    \n"
   ],
   "outputs": [],
   "execution_count": null
  },
  {
   "cell_type": "code",
   "id": "89b0d702",
   "metadata": {},
   "source": [
    "#6 Calculate mean and stdev distance\n",
    "mean_durations = {}\n",
    "for i in durations.keys():\n",
    "    mean_durations[i] = [(np.mean(durations[i]), np.std(durations[i])) if len(durations[i]) != 0 else 0][0]\n",
    "print(mean_durations)"
   ],
   "outputs": [],
   "execution_count": null
  },
  {
   "cell_type": "code",
   "id": "09361ffc",
   "metadata": {},
   "source": [],
   "outputs": [],
   "execution_count": null
  }
 ],
 "metadata": {
  "kernelspec": {
   "display_name": "Python 3 (ipykernel)",
   "language": "python",
   "name": "python3"
  },
  "language_info": {
   "codemirror_mode": {
    "name": "ipython",
    "version": 3
   },
   "file_extension": ".py",
   "mimetype": "text/x-python",
   "name": "python",
   "nbconvert_exporter": "python",
   "pygments_lexer": "ipython3",
   "version": "3.10.12"
  }
 },
 "nbformat": 4,
 "nbformat_minor": 5
}
