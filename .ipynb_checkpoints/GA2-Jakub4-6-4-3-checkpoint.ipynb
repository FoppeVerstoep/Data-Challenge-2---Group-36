{
 "cells": [
  {
   "cell_type": "markdown",
   "metadata": {},
   "source": [
    "# Graded Assignment 2 - Air Quality and Weather in the Netherlands"
   ]
  },
  {
   "cell_type": "markdown",
   "metadata": {},
   "source": [
    "\n",
    "# Introduction to This Template Notebook\n",
    "\n",
    "* This is a **group** notebook.\n",
    "* Make sure you work in a **copy** of `...-template.ipynb`,\n",
    "**renamed** to `...-yourIDnrs.ipynb`,\n",
    "where `yourIDnrs` is the TU/e identification numbers of the members of the group.\n",
    "\n",
    "<div class=\"alert alert-danger\" role=\"danger\">\n",
    "<h3>Integrity</h3>\n",
    "<ul>\n",
    "    <li>In this course you must act according to the rules of the TU/e code of scientific conduct.</li>\n",
    "    <li>This exercise or graded assignment is to be executed by the members of the group independently from other people.</li>\n",
    "    <li>You must not copy from the Internet, your friends, books... If you represent other people's work as your own, then that constitutes fraud and will be reported to the Examination Committee.</li>\n",
    "    <li>Making your work available to others (complicity) also constitutes fraud.</li>\n",
    "</ul>\n",
    "</div>\n",
    "\n",
    "You are expected to work with Python code and Markdown in this notebook.\n",
    "\n",
    "Proceed in this notebook as follows:\n",
    "* **Read** the assignment (separate PDF).\n",
    "* **Write** your decisions/solutions/interpretations in the appropriate sections.\n",
    "  * For this you can use both Code and Markdown cells. Information about how to use these cells is available in the _Getting Started_ assignment.\n",
    "* **Run** _all_ code cells (also the ones _without_ your code),\n",
    "    _in linear order_ from the first code cell.\n",
    "\n",
    "**Personalize your notebook**:\n",
    "1. Copy the following line of code:\n",
    "\n",
    "  ```python\n",
    "  AUTHOR_ID_NRS = ['1234567', '2234567', '3234567', '4234567']\n",
    "  ```\n",
    "1. Paste them between the marker lines in the next code cell.\n",
    "1. Fill in the _identification numbers_ of all members of the group as a list of strings between the `Author` markers.\n",
    "1. Run the code cell by putting the cursor there and typing **Control-Enter**.\n"
   ]
  },
  {
   "cell_type": "code",
   "execution_count": 1,
   "metadata": {},
   "outputs": [],
   "source": [
    "#// BEGIN_TODO [Author] Name, Id.nr., Date, as strings (1 point)\n",
    "\n",
    "#Ignas\n",
    "AUTHOR_ID_NRS = ['1928317', '2034859', '2052237']\n",
    "\n",
    "#// END_TODO [Author]"
   ]
  },
  {
   "cell_type": "markdown",
   "metadata": {},
   "source": [
    "## Table of Contents\n",
    "\n",
    "- [Preparation](#Preparation)\n",
    "    - [Load the libraries](#Load-the-libraries)\n",
    "- [Part 1a. Hypothesis selection](#Part-1a:-Hypothesis-selection)\n",
    "- [Part 1b. Hypothesis refinement](#Part-1b:-Hypothesis-refinement)\n",
    "- [Part 2. Queries and data cleaning](#Part-2:-Queries-and-data-cleaning)\n",
    "- [Part 3. Hypothesis testing and interpretation](#Part-3.-Hypothesis-testing-and-interpretation)\n",
    "- [Part 4. Pitching results](#Part-4.-Pitching-results)"
   ]
  },
  {
   "cell_type": "markdown",
   "metadata": {},
   "source": [
    "## Preparation\n",
    "### Load the libraries"
   ]
  },
  {
   "cell_type": "code",
   "execution_count": 2,
   "metadata": {},
   "outputs": [
    {
     "ename": "ModuleNotFoundError",
     "evalue": "No module named 'treeviz'",
     "output_type": "error",
     "traceback": [
      "\u001b[1;31m---------------------------------------------------------------------------\u001b[0m",
      "\u001b[1;31mModuleNotFoundError\u001b[0m                       Traceback (most recent call last)",
      "Cell \u001b[1;32mIn[2], line 10\u001b[0m\n\u001b[0;32m      8\u001b[0m \u001b[38;5;28;01mfrom\u001b[39;00m \u001b[38;5;21;01msklearn\u001b[39;00m\u001b[38;5;21;01m.\u001b[39;00m\u001b[38;5;21;01mmetrics\u001b[39;00m \u001b[38;5;28;01mimport\u001b[39;00m mean_absolute_error, confusion_matrix\n\u001b[0;32m      9\u001b[0m \u001b[38;5;28;01mfrom\u001b[39;00m \u001b[38;5;21;01msklearn\u001b[39;00m\u001b[38;5;21;01m.\u001b[39;00m\u001b[38;5;21;01mmodel_selection\u001b[39;00m \u001b[38;5;28;01mimport\u001b[39;00m train_test_split\n\u001b[1;32m---> 10\u001b[0m \u001b[38;5;28;01mfrom\u001b[39;00m \u001b[38;5;21;01mtreeviz\u001b[39;00m \u001b[38;5;28;01mimport\u001b[39;00m tree_print                            \u001b[38;5;66;03m# to print decision tree\u001b[39;00m\n\u001b[0;32m     12\u001b[0m \u001b[38;5;28;01mimport\u001b[39;00m \u001b[38;5;21;01mscipy\u001b[39;00m\u001b[38;5;21;01m.\u001b[39;00m\u001b[38;5;21;01mstats\u001b[39;00m \u001b[38;5;28;01mas\u001b[39;00m \u001b[38;5;21;01mstats\u001b[39;00m                               \u001b[38;5;66;03m# to compute z-scores\u001b[39;00m\n\u001b[0;32m     13\u001b[0m \u001b[38;5;28;01mfrom\u001b[39;00m \u001b[38;5;21;01mscipy\u001b[39;00m\u001b[38;5;21;01m.\u001b[39;00m\u001b[38;5;21;01minterpolate\u001b[39;00m \u001b[38;5;28;01mimport\u001b[39;00m interp1d\n",
      "\u001b[1;31mModuleNotFoundError\u001b[0m: No module named 'treeviz'"
     ]
    }
   ],
   "source": [
    "# Was already here\n",
    "import numpy as np\n",
    "import pandas as pd\n",
    "\n",
    "from sklearn.linear_model import LinearRegression         # for linear regression\n",
    "from sklearn.cluster import KMeans                        # for clustering\n",
    "from sklearn.tree import DecisionTreeClassifier           # for decision tree mining\n",
    "from sklearn.metrics import mean_absolute_error, confusion_matrix\n",
    "from sklearn.model_selection import train_test_split\n",
    "from treeviz import tree_print                            # to print decision tree\n",
    "\n",
    "import scipy.stats as stats                               # to compute z-scores\n",
    "from scipy.interpolate import interp1d\n",
    "from scipy.ndimage import gaussian_filter1d\n",
    "import sqlite3                                            # to interact with the database\n",
    "import statsmodels.api as sm\n",
    "from statsmodels.distributions.empirical_distribution import ECDF\n",
    "\n",
    "%matplotlib inline                                 \n",
    "import matplotlib as mpl\n",
    "import matplotlib.pyplot as plt\n",
    "import seaborn as sns                                     # also improves the look of plots\n",
    "sns.set()\n",
    "plt.rcParams['figure.figsize'] = 10, 5                    # default hor./vert. size of plots, in inches\n",
    "plt.rcParams['lines.markeredgewidth'] = 1                 # to fix issue with seaborn box plots; needed after import seaborn"
   ]
  },
  {
   "cell_type": "markdown",
   "metadata": {
    "tags": []
   },
   "source": [
    "## Part 1a: Hypothesis selection"
   ]
  },
  {
   "cell_type": "markdown",
   "metadata": {},
   "source": [
    "# Hypothesis:\n",
    "\n",
    "1. The rural village De Rips, north east of Eindhoven, will have an increase in NOx concentration when the south west wind blows in Eindhoven.\n",
    "2. Utrecht Will have an increase in NOx concentration when the south west wind blows from Amsterdam.\n",
    "\n",
    "**Comment**: We chose these two hypothesis above to find out how does urban cities affect rural villages. Furthermore, we picked Eindhoven and village De Rips\n",
    "as the village is north east of Eindhoven, which is the most frequenct wind direction. The same reason applies to the second hypothesis.\n",
    "\n",
    "3. The correlation between wind speed and NOx concentration in Rotterdam (coast) is higher than in the village De Rips (inland)\n",
    "\n",
    "**Comment** : We are thinking of using machine learning models to compare the correlations between a more windi place (near the coast), namely, Rotterdam, and a less windy place (inland), namely, De Rips. It would be easy to calculate the mean absolute error or just look at the residual plot, whcih would tell us where (inland or coast) is the correleation between the concentration of NOx and windspeed.\n",
    "\n",
    "Eventually, we chose hypothesis 1 as we want there to be a clear difference between the air qualities, because the second hypothesis includes Amsterdam and Utrecht whcih would not be that different. Furthermore, we discarded hypothesis 3 as we thought that this would be too easy."
   ]
  },
  {
   "cell_type": "markdown",
   "metadata": {},
   "source": [
    "## Part 1b: Hypothesis refinement"
   ]
  },
  {
   "cell_type": "markdown",
   "metadata": {},
   "source": [
    "# Hypothesis:\n",
    "\n",
    "The rural village De Rips, **north east** of Eindhoven, will have an increase in $NO_x$ concentration when the **south west** wind **blows** in Eindhoven.\n",
    "\n",
    "# 1. Questions:\n",
    "\n",
    "1. What is the distance between Eindhoven and the village.\n",
    "2. Are there air quality sations in Eindhoven and rural village De Rips?\n",
    "3. Are there weather stations in Eindhoven and rural village De Rips?\n",
    "4. What does SW wind blowing from Eindhoven to De Rips mean specifically?\n",
    "5. Is the wind speed actaully high enough and can travel such a distance (question 1) to have an impact on that village (research) and on what kind of wind will we focus on?\n",
    "6. What is the time frame of our investigation of data?\n",
    "7. What is be bearing of the village from Eindhoven?\n",
    "\n",
    "# 2. Answers:\n",
    "\n",
    "1. The distance is 26 kilometers.\n",
    "2. There are 3 air quality stations in both of the locations.\n",
    "3. There is 1 weather station in Eindhoven and no weather stations in the village De Rips.\n",
    "4. It means the wind that blows from Eindhoven at a bearing of 210 to 240 degrees, which is exactly in the direction of De Rips.\n",
    "5. We researched that the wind speed of SW wind in Eindhoven between 20 - 30 km/h was prevalent for 400 hours per year and between 30-40 km/h for over 200 hours, moreover, the wind speed was higher than 40 km/h for over 130 hours per year. We think it is enough for the wind to actually have an impact on the air quality of village De Rips, moreover, we will investigate the data when the wind speed is higher than $6.5 m/s$, which is around $20 km/h$.\n",
    "6. We will investage the data from 2012 to 2022 .\n",
    "7. It is 60 degrees.\n",
    "\n",
    "# 3. Measuring stations:\n",
    "\n",
    "- Air Quality: \n",
    "\n",
    "We have 3 options to choose from in Eindhoven as there are 3 different air quality stations and it is a high chance that at least on of them will be equipped with NOx concentration sensor. The same is for the village De Rips (there are 3 air quality stations).\n",
    "\n",
    "- Weather:\n",
    "\n",
    "There is only one weather station in Eindhoven and we will most certainly use that one for our weather factors. \n",
    "Unfortunatelly, there are no weather stations in the village De Rips, but we will only need an air quality stations, hence the weather one is not needed.\n",
    "\n",
    "# 4. Approach design:\n",
    "\n",
    "- Which technologies to use:\n",
    "\n",
    "We will use the jupyter notebook to manipulate the data and gather insightful information form it by using data mining methods, visualization technieques, data base manipulation, etc.\n",
    "\n",
    "- What data is needed (incl. sources):\n",
    "\n",
    "The needed data comprises of the wind direction and NOx concentration in Eindhoven from the weather station closest to SW orientation compared to De Rips, and the NOx concentration in De Rips captured from the AQ station with the most NE orientation compared to Eindhoven.\n",
    "\n",
    "- Other steps needed to analyze the hypothesis:\n",
    "\n",
    "The data needs to be cleaned such that any empty, incorrect or variable wind directions or other factors are eliminated. In addition, the data must be sorted based on date and time, and models need to be fit and checked so that all other work is simpler and more efficient.\n",
    "\n",
    "# Units:\n",
    "\n",
    "- Nitrogen oxides: $\\mu g/m^{3}$\n",
    "- Wind speed: $m/s$\n",
    "- Wind direction: degrees\n",
    "\n",
    "# Cofounding variables:\n",
    "\n",
    "- The season could be our cofounding variable, as it could effect the correlation between the concentration of nitrogen oxides in Eindhoven and in the village when the wind direction is the right one.\n",
    "- The polution from other cities could also be our cofounding variable as they could also pollute the rural village.\n",
    "- Wind trajectory could also be our cofounding variable as we only check for wind direction in Eindhoven, but we do not know that it always travels straightly to the village De Rips.\n",
    "\n",
    "# Refined hypothesis:\n",
    "\n",
    "The rural village De Rips, whcich it at a bearing of $210-240$ degrees and at a distance of $26$ kilometers from Eindhoven, will have an increase in $NO_x$ concentration measured in $\\mu g/m^{3}$ when the wind, with a sufficient wind speed, namely, $6.5 m/s$, at a bearing of $45$ to $75$ degrees blows in Eindhoven.\n"
   ]
  },
  {
   "cell_type": "markdown",
   "metadata": {},
   "source": [
    "## Part 2: Queries and data cleaning"
   ]
  },
  {
   "cell_type": "markdown",
   "metadata": {},
   "source": [
    "We will use the following map to find our air and weather quality stations.\n",
    "\n",
    "Note: Our weather stations are marked with red color and our air quality stations are marked with dark blue color."
   ]
  },
  {
   "cell_type": "code",
   "execution_count": null,
   "metadata": {},
   "outputs": [],
   "source": [
    "# Ignas (changed the colros)\n",
    "# Weather and Air Quality Map of NL (copied from helper code)\n",
    " \n",
    "# I only removed the unwanted markers that were on the map.\n",
    "\n",
    "from matplotlib.lines import Line2D\n",
    "import pandas as pd\n",
    "from shapely.geometry import Point\n",
    "import geopandas as gpd\n",
    "import matplotlib.pyplot as plt\n",
    "import sqlite3\n",
    "\n",
    "def plot_stations_on_map(df_stations):\n",
    "    map_nl = gpd.read_file('./datasets/stanford-st293bj4601-shapefile.zip')\n",
    "\n",
    "    gdf = gpd.GeoDataFrame(geometry=[Point(x, y) for x, y in (zip(df_stations['longitude'], df_stations['latitude']))])\n",
    "    # gdf_other = gpd.GeoDataFrame(geometry=[Point(x, y) for (x, y) in [(4.601842, 52.463039)]])\n",
    "    \n",
    "    point1 = gdf['geometry'] == Point(5.853070, 51.540520)\n",
    "    point2 = gdf['geometry'] == Point(5.472350, 51.468662)\n",
    "    point3 = gdf['geometry'] == Point(5.377, 51.451)\n",
    "\n",
    "    gdf['color'] = list(df_stations['color'])\n",
    "    gdf = gdf[point1 | point2 | point3]\n",
    "    \n",
    "    gdf.crs = map_nl.crs\n",
    "    \n",
    "\n",
    "    f, ax = plt.subplots(1, figsize=(8, 8))\n",
    "\n",
    "    map_nl.plot(linewidth=0.5, edgecolor='white', color='lightgrey',legend=True, ax=ax)\n",
    "    \n",
    "    gdf.plot(ax=ax, marker='o', color=gdf['color'], markersize=15)\n",
    "    \n",
    "\n",
    "    ax.set_title('Air Quality and Weather Stations in the Netherlands', size=15)\n",
    "    ax.set_xlabel('Longitude')\n",
    "    ax.set_ylabel('Latitude')\n",
    "\n",
    "    legend = [\n",
    "        Line2D([0], [0], markerfacecolor='#FF8F35', marker='o', color='w', label='Weather station'),\n",
    "        Line2D([0], [0], markerfacecolor='#5499C7', marker='o', color='w', label='Air quality station')\n",
    "    ]\n",
    "    ax.legend(handles=legend, loc='upper left')\n",
    "    \n",
    "    return ax\n",
    "    \n",
    "def all_stations():\n",
    "    aqs_sql = \"SELECT name, latitude, longitude FROM air_quality_stations\"\n",
    "    ws_sql = \"SELECT name, latitude, longitude FROM weather_stations\"\n",
    "    with sqlite3.connect('./datasets/aqw.db') as conn:\n",
    "        df_aqs = pd.read_sql_query(aqs_sql, conn)\n",
    "        df_ws = pd.read_sql_query(ws_sql, conn)\n",
    "    df_aqs['color'] = \"#5499c7\"\n",
    "    df_ws['color'] = \"#ff8f35\"\n",
    "    return pd.concat([df_ws, df_aqs])\n",
    "\n",
    "plot_stations_on_map(all_stations());\n",
    "\n",
    "aqs_sql = \"SELECT name, latitude, longitude FROM air_quality_stations\"\n",
    "ws_sql = \"SELECT name, latitude, longitude FROM weather_stations\"\n",
    "with sqlite3.connect('./datasets/aqw.db') as conn:\n",
    "    df_aqs = pd.read_sql_query(aqs_sql, conn);\n",
    "    df_ws = pd.read_sql_query(ws_sql, conn);"
   ]
  },
  {
   "cell_type": "code",
   "execution_count": null,
   "metadata": {},
   "outputs": [],
   "source": [
    "# Ignas\n",
    "# Connect to the database:\n",
    "conn = sqlite3.connect('./datasets/aqw.db')"
   ]
  },
  {
   "cell_type": "code",
   "execution_count": null,
   "metadata": {},
   "outputs": [],
   "source": [
    "# Ignas\n",
    "# Fetch the data containing information about weather and air quality stations:\n",
    "aqs_sql = \"SELECT code, name, latitude, longitude FROM air_quality_stations\"\n",
    "ws_sql = \"SELECT code, name, latitude, longitude FROM weather_stations\"\n",
    "df_aqs = pd.read_sql_query(aqs_sql, conn);\n",
    "df_ws = pd.read_sql_query(ws_sql, conn);"
   ]
  },
  {
   "cell_type": "code",
   "execution_count": null,
   "metadata": {},
   "outputs": [],
   "source": [
    "# Ignas\n",
    "# Pick the required stations (eindhoven and village De Rips)\n",
    "\n",
    "# Eindhoven aqs: \n",
    "\n",
    "lat_less_E = df_aqs['latitude'] < 51.5\n",
    "lat_more_E = df_aqs['latitude'] > 51.3\n",
    "\n",
    "long_less_E = df_aqs['longitude'] < 5.6\n",
    "long_more_E = df_aqs['longitude'] > 5.3\n",
    "\n",
    "# Vilalge De Rips aqs:\n",
    "\n",
    "lat_less_R = df_aqs['latitude'] < 51.8\n",
    "lat_more_R = df_aqs['latitude'] > 51.5\n",
    "\n",
    "long_less_R = df_aqs['longitude'] < 6\n",
    "long_more_R = df_aqs['longitude'] > 5.7\n",
    "\n",
    "# Eindhoven ws:\n",
    "\n",
    "ws_E = df_ws['name'] =='Eindhoven'\n",
    "\n",
    "# Printing:\n",
    "\n",
    "df_aqs[lat_less_R & lat_more_R & long_less_R & long_more_R], df_aqs[lat_less_E & lat_more_E & long_less_E & long_more_E], df_ws[ws_E]\n",
    "\n",
    "# Note: We get 6 air quality stations (3 in Eindhoven and 3 in the village De Rips) and 1 weather station (in Eindhoven) as desired."
   ]
  },
  {
   "cell_type": "code",
   "execution_count": null,
   "metadata": {},
   "outputs": [],
   "source": [
    "# Ignas\n",
    "# Choosing 1 station per subject:\n",
    "\n",
    "# Choosing Eindhoven-Genovevalaan aqs: \n",
    "aqs_E_long = df_aqs['longitude'] == 5.472350\n",
    "aqs_E_lat = df_aqs['latitude'] == 51.468662\n",
    "\n",
    "# Choosing De Rips-Blaarpeelweg aqs:\n",
    "aqs_R_long = df_aqs['longitude'] == 5.838202\n",
    "aqs_R_lat = df_aqs['latitude'] == 51.547469\n",
    "\n",
    "\n",
    "# Choosing Eindhoven's ws:\n",
    "ws_E; # Leave it as it is.\n",
    "\n",
    "# Choosing De Rips' ws:\n",
    "# No weather station.\n",
    "\n",
    "# Check if the rigtht ones are selected and find the index number:\n",
    "\n",
    "# df_aqs[aqs_R_lat & aqs_R_long], df_aqs[aqs_E_lat & aqs_E_long], df_ws[ws_E]\n",
    "\n",
    "# Assign the codes of the stations to variabels and print them:\n",
    "aqs_R_code = df_aqs['code'].loc[94]\n",
    "aqs_E_code = df_aqs['code'].loc[25]\n",
    "ws_E_code = df_ws['code'].loc[12]\n",
    "\n",
    "aqs_R_code, aqs_E_code, ws_E_code"
   ]
  },
  {
   "cell_type": "code",
   "execution_count": null,
   "metadata": {},
   "outputs": [],
   "source": [
    "# Ignas\n",
    "# Define a variable for our compound and weather factor:\n",
    "\n",
    "compound = 'no_x'\n",
    "weather_factors = ['wind_speed', 'wind_direction']"
   ]
  },
  {
   "cell_type": "code",
   "execution_count": null,
   "metadata": {},
   "outputs": [],
   "source": [
    "# Ignas\n",
    "# Find the data of selected air quality and weather stations:\n",
    "\n",
    "# Query for fetching air quality data in Eindhoven:  \n",
    "query_aqs_E = f\"\"\"\n",
    "    SELECT datetime, {compound}\n",
    "    FROM air_quality_data \n",
    "    WHERE station_code='{aqs_E_code}'\n",
    "\"\"\"\n",
    "# Query for fetching air quality data in the village De Rips:\n",
    "query_aqs_R = f\"\"\"\n",
    "    SELECT datetime, {compound}\n",
    "    FROM air_quality_data \n",
    "    WHERE station_code='{aqs_R_code}'\n",
    "\"\"\"\n",
    "\n",
    "# Query for fetching weather data in Eindhoven:\n",
    "query_ws_E = f\"\"\"\n",
    "    SELECT datetime, {', '.join(weather_factors)} \n",
    "    FROM weather_data \n",
    "    WHERE station_code={ws_E_code}\n",
    "\"\"\"\n",
    "\n",
    "# Get the desired compound info from the air quality station\n",
    "df_aqs_E = pd.read_sql_query(query_aqs_E, conn, \n",
    "                          index_col='datetime', \n",
    "                          parse_dates=['datetime'])\n",
    "\n",
    "# Get the desired compound info from the air quality station\n",
    "df_aqs_R = pd.read_sql_query(query_aqs_R, conn, \n",
    "                          index_col='datetime', \n",
    "                          parse_dates=['datetime'])\n",
    "\n",
    "# Find the data of selected weather station in Eindhoven:\n",
    "df_ws_E = pd.read_sql_query(query_ws_E, conn, \n",
    "                          index_col='datetime', \n",
    "                          parse_dates=['datetime'])"
   ]
  },
  {
   "cell_type": "code",
   "execution_count": null,
   "metadata": {},
   "outputs": [],
   "source": [
    "# Ignas\n",
    "# Get some information about the construction of the data:\n",
    "df_aqs_E.info(), df_aqs_R.info(), df_ws_E.info()\n",
    "\n",
    "# We can see that there is only air quality data up to 2017-01-01 from one of the air quality columns, hence, we will try other weather stations in the vilalge."
   ]
  },
  {
   "cell_type": "code",
   "execution_count": null,
   "metadata": {},
   "outputs": [],
   "source": [
    "# Ignas\n",
    "# Find another weather data:\n",
    "\n",
    "aqs_R_long = df_aqs['longitude'] == 5.853070\n",
    "aqs_R_lat = df_aqs['latitude'] == 51.540520\n",
    "\n",
    "df_aqs[aqs_R_long & aqs_R_lat]"
   ]
  },
  {
   "cell_type": "code",
   "execution_count": null,
   "metadata": {},
   "outputs": [],
   "source": [
    "# Ignas\n",
    "# Choose another station and fetch data from it:\n",
    "\n",
    "aqs_R_code = df_aqs['code'].loc[2]\n",
    "\n",
    "conn = sqlite3.connect('./datasets/aqw.db'); \n",
    "\n",
    "query_aqs_R = f\"\"\"\n",
    "    SELECT datetime, {compound}\n",
    "    FROM air_quality_data \n",
    "    WHERE station_code='{aqs_R_code}'\n",
    "\"\"\"\n",
    "df_aqs_R = pd.read_sql_query(query_aqs_R, conn, \n",
    "                          index_col='datetime', \n",
    "                          parse_dates=['datetime'])\n",
    "\n",
    "df_aqs_R.info()\n",
    "# Fortunately, with this data table, we see that there are data up to 2022 like in the other data frames."
   ]
  },
  {
   "cell_type": "code",
   "execution_count": null,
   "metadata": {},
   "outputs": [],
   "source": [
    "# Ignas\n",
    "# Get some information about the construction of our new data:\n",
    "df_aqs_E.info(), df_aqs_R.info(), df_ws_E.info()\n",
    "\n",
    "# We see, that starting dates are not the same, hence, we will equalize them:\n",
    "\n",
    "# Get starting measurement dates\n",
    "start_compound1_E = df_aqs_E[df_aqs_E[compound].notna()].index.min()\n",
    "start_compound1_R = df_aqs_R[df_aqs_R[compound].notna()].index.min()\n",
    "start_factor1 = df_ws_E[df_ws_E[weather_factors[0]].notna()].index.min()\n",
    "start_factor2 = df_ws_E[df_ws_E[weather_factors[1]].notna()].index.min()\n",
    "\n",
    "# Get ending measurement dates\n",
    "end_compound1_E = df_aqs_E[df_aqs_E[compound].notna()].index.max()\n",
    "end_compound1_R = df_aqs_R[df_aqs_R[compound].notna()].index.max()\n",
    "end_factor1 = df_ws_E[df_ws_E[weather_factors[0]].notna()].index.max()\n",
    "end_factor2 = df_ws_E[df_ws_E[weather_factors[1]].notna()].index.max()\n",
    "\n",
    "start_measurement = max(start_compound1_E, start_compound1_R, start_factor1, start_factor1)\n",
    "end_measurement = min(end_compound1_E, end_compound1_R, end_factor1, end_factor2)\n",
    "\n",
    "print(start_measurement, end_measurement)"
   ]
  },
  {
   "cell_type": "code",
   "execution_count": null,
   "metadata": {},
   "outputs": [],
   "source": [
    "# Ignas\n",
    "# Filter the data according to the date:\n",
    "df_aqs_E = df_aqs_E.loc[start_measurement:end_measurement]\n",
    "df_aqs_R = df_aqs_R.loc[start_measurement:end_measurement]\n",
    "df_ws_E = df_ws_E.loc[start_measurement:end_measurement]\n",
    "\n",
    "# Change the column names of Eindhoven and village's data frame"
   ]
  },
  {
   "cell_type": "code",
   "execution_count": null,
   "metadata": {},
   "outputs": [],
   "source": [
    "# Ignas\n",
    "# Merge the data into one dataframe:\n",
    "df_merged = pd.merge(df_aqs_R, pd.merge(df_aqs_E, df_ws_E, on = 'datetime'), on = 'datetime')\n",
    "\n",
    "# Finally, check information about the data construction again on the merged df:\n",
    "df_merged.head()"
   ]
  },
  {
   "cell_type": "code",
   "execution_count": null,
   "metadata": {},
   "outputs": [],
   "source": [
    "# Ignas\n",
    "# Get some information about the construction of the data:\n",
    "df_merged.describe()"
   ]
  },
  {
   "cell_type": "code",
   "execution_count": null,
   "metadata": {},
   "outputs": [],
   "source": [
    "# Ignas\n",
    "# Removing null values:\n",
    "\n",
    "# We need the data to meet the following criteria:\n",
    "# 1. Have no null values in the air quality data of Eindhoven\n",
    "# 2. Have no null values in the air quality data of The village De Rips\n",
    "# 3. Have no null values in the  data of Eindhoven\n",
    "\n",
    "\n",
    "# Find the true or false series:\n",
    "tf_series = df_merged['no_x_x'].notna() & df_merged['no_x_y'].notna() & df_merged['wind_direction'].notna() & df_merged['wind_speed'].notna()\n",
    "\n",
    "# Assign the final dataframe to a variable and print it afterwards\n",
    "df = df_merged[tf_series]\n",
    "\n",
    "# Remove the negative values\n",
    "negative_series = df['no_x_x'] >= 0\n",
    "df = df[negative_series].copy()"
   ]
  },
  {
   "cell_type": "code",
   "execution_count": null,
   "metadata": {},
   "outputs": [],
   "source": [
    "# Ignas\n",
    "# Check for null values\n",
    "df.describe()"
   ]
  },
  {
   "cell_type": "code",
   "execution_count": null,
   "metadata": {},
   "outputs": [],
   "source": [
    "# Ignas\n",
    "# Changing the column names:\n",
    "df = df.rename(columns = {'no_x_x':'De_Rips', 'no_x_y':'Eindhoven'})"
   ]
  },
  {
   "cell_type": "code",
   "execution_count": null,
   "metadata": {},
   "outputs": [],
   "source": [
    "# Ignas\n",
    "# Checking how the data looks like\n",
    "df.head()"
   ]
  },
  {
   "cell_type": "code",
   "execution_count": null,
   "metadata": {},
   "outputs": [],
   "source": [
    "#Ignas, Steven\n",
    "# # Cherry-picking the data points where the wind direction is 210 to 240 degrees bearing from Eindhoven.\n",
    "\n",
    "wind_dir_good_left = df['wind_direction'] >= 210\n",
    "wind_dir_good_right = df['wind_direction'] <= 240\n",
    "\n",
    "wind_dir_reasonable = df['wind_direction'] != 990\n",
    "\n",
    "wind_dir_wrong_left = df['wind_direction'] < 210\n",
    "wind_dir_wrong_right = df['wind_direction'] > 240\n",
    "\n",
    "df = df[wind_dir_reasonable].copy()\n",
    "\n",
    "df_dir_good = df[wind_dir_good_left & wind_dir_good_right & wind_dir_reasonable].copy()\n",
    "df_dir_wrong = df[wind_dir_wrong_left | wind_dir_wrong_right & wind_dir_reasonable].copy()\n",
    "\n",
    "df_dir_good.describe(), df_dir_wrong.describe()\n",
    "# We see that the data only has 6057 entries which is proportionally smaller than 1/12 (30 degrees/ 360 degerees)\n",
    "# when compared to all the 84760 entries there are. We will check the more recent data\n",
    "\n",
    "df_dir_good_2 = df_dir_good.copy()\n",
    "df_dir_wrong_2 = df_dir_wrong.copy()"
   ]
  },
  {
   "cell_type": "markdown",
   "metadata": {},
   "source": [
    "## Part 3. Hypothesis testing and interpretation"
   ]
  },
  {
   "cell_type": "markdown",
   "metadata": {},
   "source": [
    "Write down ideas for research:\n",
    "\n",
    "# Preliminary conditions:\n",
    "- NOx concentration, wind speed,wind direction are to be tested such that wind speed, wind direction are dependent variables and NOx concentration is the dependent variable. \n",
    "- Wind speed in m/s, wind direction in degrees.\n",
    "- Find when most often we have south west wind in Eindhoven and find the interval.\n",
    "# Selected hypothesis:\n",
    "The rural village De Rips, north east of Eindhoven, will have an increase in NOx concentration when the south west wind blows in Eindhoven.\n",
    "# Method of research\n",
    "- Plot data with date_time units and find all dates where the wind direction is Southwest (210-240° bearing) ONLY using an SQL query, related to date.\n",
    "- Determine the correlation between the air quality in De Rips and in Eindhoven per day using a _ data mining method, then find a correlation between the above correlation, wind speed and wind direction using linear regression and visual analysis."
   ]
  },
  {
   "cell_type": "markdown",
   "metadata": {},
   "source": [
    "## Proper hypothesis testing:"
   ]
  },
  {
   "cell_type": "code",
   "execution_count": null,
   "metadata": {},
   "outputs": [],
   "source": [
    "# Steven\n",
    "H_0 = 'mu_right_direction=mu_wrong_direction'\n",
    "H_a = 'mu_right_direction>mu_wrong_direction'\n",
    "# Storing the hypothesis as a string in the variable"
   ]
  },
  {
   "cell_type": "code",
   "execution_count": null,
   "metadata": {},
   "outputs": [],
   "source": [
    "#Steven\n",
    "# If we need the normality distribution\n",
    "need_normality = False\n",
    "normality_argumentation = 'The dataset is really large, thus normality is not required for t-test.'"
   ]
  },
  {
   "cell_type": "code",
   "execution_count": null,
   "metadata": {},
   "outputs": [],
   "source": [
    "#Steven\n",
    "#Testing the hypothesis by using \n",
    "siginificants_level = 0.05\n",
    "\n",
    "dir_right = sm.stats.DescrStatsW(df_dir_good_2['De_Rips'])\n",
    "dir_wrong = sm.stats.DescrStatsW(df_dir_wrong_2['De_Rips'])\n",
    "\n",
    "cm = sm.stats.CompareMeans(dir_right, dir_wrong)\n",
    "\n",
    "p_value = cm.ttest_ind(alternative='larger')[1]\n",
    "\n",
    "confidence_int = cm.tconfint_diff(alpha = siginificants_level, alternative='larger')\n",
    "p_value, confidence_int\n",
    "\n",
    "#The p-value is higher than the significant's level 0.05 so the null hypothesis can not be rejected."
   ]
  },
  {
   "cell_type": "markdown",
   "metadata": {},
   "source": [
    "## Hypothesis interpretation"
   ]
  },
  {
   "cell_type": "markdown",
   "metadata": {},
   "source": [
    "Data not normal\n",
    "Cofounding variables\n",
    "Didn't find any effect of the wind in Eindhoven\n",
    "Perhaps the wind direction (maybe the wind does not travel straightly to the village)\n",
    "We don't know if it correlates negatively as we only rejected the average being higher than the null hypothesis (did one-sided testing)"
   ]
  },
  {
   "cell_type": "markdown",
   "metadata": {},
   "source": [
    "## Comparing means artificially"
   ]
  },
  {
   "cell_type": "code",
   "execution_count": null,
   "metadata": {},
   "outputs": [],
   "source": [
    "# Ignas\n",
    "# Difference of means in the village when the wind blows there and when the wind is not blowing there.\n",
    "\n",
    "# Finding the mean when the wind is blowing in the right direction:\n",
    "mean_right_dir_R = df_dir_good['De_Rips'].mean()\n",
    "\n",
    "# Finding the mean when the wind is blowing in the wrong direction:\n",
    "mean_wrong_dir_R = df_dir_wrong['De_Rips'].mean()\n",
    "\n",
    "mean_right_dir_R, mean_wrong_dir_R\n",
    "\n",
    "# We would expect the opposite as the concentration should be higher when the wind is blowing from Eindhoven to the village."
   ]
  },
  {
   "cell_type": "markdown",
   "metadata": {},
   "source": [
    "## Visualizations"
   ]
  },
  {
   "cell_type": "code",
   "execution_count": null,
   "metadata": {},
   "outputs": [],
   "source": [
    "# Ignas\n",
    "# Comparing the concentration of nitrogen oxides in the village and in Eindhoven when the wind is blowing from Eindhoven to the vilage.\n",
    "\n",
    "fig, ax = plt.subplots(nrows = 2, ncols = 1, figsize = (10, 10), sharex = True)\n",
    "\n",
    "df_dir_good[df_dir_good.index.year>=2021]['De_Rips'].plot(ax = ax[0], linewidth = 1)\n",
    "df_dir_good[df_dir_good.index.year>=2021]['Eindhoven'].plot(ax = ax[1], linewidth = 1)\n",
    "\n",
    "ax[0].set_ylabel('Concentration ($\\mu$g/$m^{3}$)')\n",
    "ax[1].set_ylabel('Concentration ($\\mu$g/$m^{3}$)')\n",
    "\n",
    "ax[0].set_title('Concentration of nitrogen oxides in the village')\n",
    "ax[1].set_title('Concentration of nitrogen oxides in Eindhoven')\n",
    "\n",
    "ax[1].set_xlabel('Wind direction (degrees)')\n",
    "\n",
    "ax[0].set_ylim(0, 250)\n",
    "ax[1].set_ylim(0, 250)\n",
    "\n",
    "fig.suptitle('Comparing concentration in both cities when the wind is blowing in the right direction in 2022', weight = 'bold')\n",
    "\n",
    "#  We can actually see some direct correlation between the concentrations in a short period of time (a year)."
   ]
  },
  {
   "cell_type": "code",
   "execution_count": null,
   "metadata": {},
   "outputs": [],
   "source": [
    "# Ignas\n",
    "fig, ax = plt.subplots(nrows = 2, ncols = 1, figsize = (10, 10), sharex = True);\n",
    "\n",
    "df_dir_good['De_Rips'].plot(ax = ax[0], linewidth = 0.3)\n",
    "df_dir_wrong['De_Rips'].plot(ax = ax[1], linewidth = 0.3)\n",
    "\n",
    "ax[0].set_ylim(0, 400)\n",
    "ax[1].set_ylim(0, 400)\n",
    "\n",
    "ax[0].set_ylabel('Concentration ($\\mu$g/$m^{3}$)')\n",
    "ax[1].set_ylabel('Concentration ($\\mu$g/$m^{3}$)')\n",
    "ax[0].set_title('Concentration in the village when the wind is blowing in the direction of it.')\n",
    "ax[1].set_title('Concentration in the village when the wind is blowing in the wrong direction.')\n",
    "ax[1].set_xlabel('Wind direction ($m/s$)')\n",
    "\n",
    "fig.suptitle('Comparing concentration in the village with wind direction in Eindohven', weight = 'bold')\n",
    "\n",
    "# We can actually see that when the wind is blowing in the wrong direction, the concentration of nitrogen oxides\n",
    "# in the village is even higher than when the wind is blowing in the right direction, which is contraty to what we would expect."
   ]
  },
  {
   "cell_type": "code",
   "execution_count": null,
   "metadata": {},
   "outputs": [],
   "source": [
    "# Ignas\n",
    "# # Making a scatter plot of the cleaned data and highlighting the data that we are interested in.\n",
    "\n",
    "fig, ax = plt.subplots(nrows=1, ncols=1, figsize = (10, 5))\n",
    "\n",
    "df.plot(kind = 'scatter', x = 'wind_direction', y = 'De_Rips', s = 0.5, ax = ax)\n",
    "plt.scatter(df_dir_good['wind_direction'], df_dir_good['De_Rips'], color=\"orange\", s = 0.6)\n",
    "\n",
    "ax.set_ylabel('Concentration ($\\mu$g/$m^{3}$)')\n",
    "ax.set_title('Concentration in the village comapred to the wind direction in Eindhoven')\n",
    "ax.set_xlabel('Wind direction (degrees)')\n",
    "\n",
    "fig.suptitle('Comparing concentration with wind direction', weight = 'bold')\n",
    "\n",
    "# This visualization does not show any differences between the right and wrong wind directions, hence, no interesting conclusion cold be made."
   ]
  },
  {
   "cell_type": "markdown",
   "metadata": {},
   "source": [
    "## Fitting a linear regression model"
   ]
  },
  {
   "cell_type": "code",
   "execution_count": null,
   "metadata": {},
   "outputs": [],
   "source": [
    "#Data Selection of Dependent and Independent Variables\n",
    "#Foppe\n",
    "X_df_train = df_dir_good[['wind_speed', 'wind_direction', 'Eindhoven']][df_dir_good.index.year<2020]\n",
    "y_df_train = df_dir_good['De_Rips'][df_dir_good.index.year<2020]\n",
    "X_df_test = df_dir_good[['wind_speed', 'wind_direction', 'Eindhoven']][df_dir_good.index.year>=2020]\n",
    "y_df_test = df_dir_good['De_Rips'][df_dir_good.index.year>=2020]"
   ]
  },
  {
   "cell_type": "code",
   "execution_count": null,
   "metadata": {},
   "outputs": [],
   "source": [
    "# Fitting a Linear Regresion model\n",
    "# Foppe\n",
    "LR = LinearRegression()\n",
    "LR.fit(X_df_train, y_df_train)\n",
    "X_df_test['residual'] = y_df_test - LR.predict(X_df_test)"
   ]
  },
  {
   "cell_type": "code",
   "execution_count": null,
   "metadata": {},
   "outputs": [],
   "source": [
    "# Foppe, Ignas\n",
    "# # Making a residual plot\n",
    "\n",
    "fig, ax = plt.subplots(nrows=1, ncols=1, figsize = (10, 5))\n",
    "\n",
    "ax.axhline(c = 'orange')\n",
    "X_df_test.plot(kind='scatter', x='wind_speed', y='residual', s = 4, ax = ax)\n",
    "fig.suptitle('Residual plot', weight = 'bold')\n",
    "ax.set_xlabel('Wind speed $m/s$')\n",
    "ax.set_ylabel('Concentration residual ($\\mu$g/$m^{3}$)')\n",
    "ax.set_title('Plotting wind speed in Eindhoven against the residual concentration in the village.')\n",
    "ax.set_ylim(-75, 75)\n",
    "\n",
    "#The residual plot shows the differences between actual and predicted test data (nitrogen oxide's concentratio in De Rips) against wind speed.\n",
    "#This shows general accuracy of the model, which increases with wind speed. This could mean that there is a correlation between wind speed and nitrogen oxide's concentration\n",
    "#concentration in the village De Rips. Therefore, this goes along with our hypothesis."
   ]
  },
  {
   "cell_type": "markdown",
   "metadata": {},
   "source": [
    "## Conclusion"
   ]
  },
  {
   "cell_type": "markdown",
   "metadata": {},
   "source": []
  },
  {
   "cell_type": "markdown",
   "metadata": {},
   "source": [
    "## Part 4. Polishing and pitching results"
   ]
  },
  {
   "cell_type": "code",
   "execution_count": null,
   "metadata": {},
   "outputs": [],
   "source": [
    "# This section is only for generating figures if you need it. You may leave it empty."
   ]
  },
  {
   "cell_type": "markdown",
   "metadata": {},
   "source": [
    "# Feedback\n",
    "\n",
    "Please fill in this questionaire to help us improve this course for the next year. Your feedback will be anonymized and will not affect your grade in any way!"
   ]
  },
  {
   "cell_type": "markdown",
   "metadata": {},
   "source": [
    "### How many hours did you spend on these exercises?\n",
    "\n",
    "Assign a number to `feedback_time`."
   ]
  },
  {
   "cell_type": "code",
   "execution_count": null,
   "metadata": {},
   "outputs": [],
   "source": [
    "#// BEGIN_FEEDBACK [Feedback_1] (0 point)\n",
    "\n",
    "feedback_time = \n",
    "\n",
    "#// END_FEEDBACK [Feedback_1] (0 point)\n",
    "\n",
    "import numbers\n",
    "\n",
    "assert isinstance(feedback_time, numbers.Number), \"Please assign a number to feedback_time\"\n",
    "print(feedback_time)"
   ]
  },
  {
   "cell_type": "markdown",
   "metadata": {},
   "source": [
    "### How difficult did you find these exercises?\n",
    "\n",
    "Assign an integer to `feedback_difficulty`, on a scale 0 - 10, with 0 being very easy, 5 being just right, and 10 being very difficult."
   ]
  },
  {
   "cell_type": "code",
   "execution_count": null,
   "metadata": {},
   "outputs": [],
   "source": [
    "#// BEGIN_FEEDBACK [Feedback_2] (0 point)\n",
    "\n",
    "feedback_difficulty = \n",
    "\n",
    "#// END_FEEDBACK [Feedback_2] (0 point)\n",
    "\n",
    "import numbers\n",
    "\n",
    "assert isinstance(feedback_difficulty, numbers.Number), \"Please assign a number to feedback_difficulty\"\n",
    "print(feedback_difficulty)"
   ]
  },
  {
   "cell_type": "markdown",
   "metadata": {},
   "source": [
    "### (Optional) What did you like?\n",
    "\n",
    "Assign a string to `feedback_like`."
   ]
  },
  {
   "cell_type": "code",
   "execution_count": null,
   "metadata": {},
   "outputs": [],
   "source": [
    "#// BEGIN_FEEDBACK [Feedback_3] (0 point)\n",
    "\n",
    "#// END_FEEDBACK [Feedback_3] (0 point)"
   ]
  },
  {
   "cell_type": "markdown",
   "metadata": {},
   "source": [
    "### (Optional) What can be improved?\n",
    "\n",
    "Assign a string to `feedback_improve`. Please be specific, so that we can act on your feedback. For example, mention the specific exercises and what was unclear."
   ]
  },
  {
   "cell_type": "code",
   "execution_count": null,
   "metadata": {},
   "outputs": [],
   "source": [
    "#// BEGIN_FEEDBACK [Feedback_4] (0 point)\n",
    "\n",
    "#// END_FEEDBACK [Feedback_4] (0 point)"
   ]
  },
  {
   "cell_type": "markdown",
   "metadata": {},
   "source": [
    "\n",
    "\n",
    "\n",
    "## How to Submit Your Work\n",
    "\n",
    "1. **Before submitting**, you must run your notebook by doing **Kernel > Restart & Run All**.  \n",
    "   Make sure that your notebook runs without errors **in linear order**.\n",
    "1. Remember to rename the notebook as explained at the beginning of this notebook.\n",
    "1. Submit the executed notebook with your work\n",
    "   for the appropriate assignment in **Canvas**.\n",
    "1. In the **Momotor** tab in Canvas,\n",
    "  you can select that assignment again to find some feedback on your submitted work.\n",
    "  If there are any problems reported by _Momotor_,\n",
    "  then you need to fix those,\n",
    "  and **resubmit the fixed notebook**.\n",
    "\n",
    "In case of a high workload on our server\n",
    "(because many students submit close to the deadline),\n",
    "it may take longer to receive the feedback.\n",
    "\n",
    "\n"
   ]
  },
  {
   "cell_type": "markdown",
   "metadata": {},
   "source": [
    "---"
   ]
  },
  {
   "cell_type": "code",
   "execution_count": null,
   "metadata": {},
   "outputs": [],
   "source": [
    "# List all defined names\n",
    "%whos"
   ]
  },
  {
   "cell_type": "markdown",
   "metadata": {},
   "source": [
    "---\n",
    "\n",
    "# (End of Notebook) <span class=\"tocSkip\"></span>\n",
    "\n",
    "&copy; 2017-2023 - **TU/e** - Eindhoven University of Technology"
   ]
  }
 ],
 "metadata": {
  "anaconda-cloud": {},
  "hide_input": false,
  "kernelspec": {
   "display_name": "Python 3 (ipykernel)",
   "language": "python",
   "name": "python3"
  },
  "language_info": {
   "codemirror_mode": {
    "name": "ipython",
    "version": 3
   },
   "file_extension": ".py",
   "mimetype": "text/x-python",
   "name": "python",
   "nbconvert_exporter": "python",
   "pygments_lexer": "ipython3",
   "version": "3.10.9"
  },
  "toc": {
   "base_numbering": 1,
   "nav_menu": {
    "height": "264px",
    "width": "252px"
   },
   "number_sections": false,
   "sideBar": true,
   "skip_h1_title": false,
   "title_cell": "Table of Contents",
   "title_sidebar": "Contents",
   "toc_cell": true,
   "toc_position": {
    "height": "calc(100% - 180px)",
    "left": "10px",
    "top": "150px",
    "width": "234px"
   },
   "toc_section_display": "block",
   "toc_window_display": true
  },
  "vscode": {
   "interpreter": {
    "hash": "60e5673dee0b20898bfa4f3c497959fb0c8d0d39a7f6ea9d7f166a7012267d3f"
   }
  }
 },
 "nbformat": 4,
 "nbformat_minor": 4
}
