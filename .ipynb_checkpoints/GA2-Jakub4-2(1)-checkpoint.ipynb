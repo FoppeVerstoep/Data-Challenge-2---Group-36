{
 "cells": [
  {
   "cell_type": "markdown",
   "metadata": {},
   "source": [
    "# Graded Assignment 2 - Air Quality and Weather in the Netherlands"
   ]
  },
  {
   "cell_type": "markdown",
   "metadata": {},
   "source": [
    "\n",
    "# Introduction to This Template Notebook\n",
    "\n",
    "* This is a **group** notebook.\n",
    "* Make sure you work in a **copy** of `...-template.ipynb`,\n",
    "**renamed** to `...-yourIDnrs.ipynb`,\n",
    "where `yourIDnrs` is the TU/e identification numbers of the members of the group.\n",
    "\n",
    "<div class=\"alert alert-danger\" role=\"danger\">\n",
    "<h3>Integrity</h3>\n",
    "<ul>\n",
    "    <li>In this course you must act according to the rules of the TU/e code of scientific conduct.</li>\n",
    "    <li>This exercise or graded assignment is to be executed by the members of the group independently from other people.</li>\n",
    "    <li>You must not copy from the Internet, your friends, books... If you represent other people's work as your own, then that constitutes fraud and will be reported to the Examination Committee.</li>\n",
    "    <li>Making your work available to others (complicity) also constitutes fraud.</li>\n",
    "</ul>\n",
    "</div>\n",
    "\n",
    "You are expected to work with Python code and Markdown in this notebook.\n",
    "\n",
    "Proceed in this notebook as follows:\n",
    "* **Read** the assignment (separate PDF).\n",
    "* **Write** your decisions/solutions/interpretations in the appropriate sections.\n",
    "  * For this you can use both Code and Markdown cells. Information about how to use these cells is available in the _Getting Started_ assignment.\n",
    "* **Run** _all_ code cells (also the ones _without_ your code),\n",
    "    _in linear order_ from the first code cell.\n",
    "\n",
    "**Personalize your notebook**:\n",
    "1. Copy the following line of code:\n",
    "\n",
    "  ```python\n",
    "  AUTHOR_ID_NRS = ['1234567', '2234567', '3234567', '4234567']\n",
    "  ```\n",
    "1. Paste them between the marker lines in the next code cell.\n",
    "1. Fill in the _identification numbers_ of all members of the group as a list of strings between the `Author` markers.\n",
    "1. Run the code cell by putting the cursor there and typing **Control-Enter**.\n"
   ]
  },
  {
   "cell_type": "code",
   "execution_count": 1,
   "metadata": {},
   "outputs": [],
   "source": [
    "#// BEGIN_TODO [Author] Name, Id.nr., Date, as strings (1 point)\n",
    "\n",
    "AUTHOR_ID_NRS = ['1928317', '2034859', '2052237']\n",
    "\n",
    "#// END_TODO [Author]"
   ]
  },
  {
   "cell_type": "markdown",
   "metadata": {},
   "source": [
    "## Table of Contents\n",
    "\n",
    "- [Preparation](#Preparation)\n",
    "    - [Load the libraries](#Load-the-libraries)\n",
    "- [Part 1a. Hypothesis selection](#Part-1a:-Hypothesis-selection)\n",
    "- [Part 1b. Hypothesis refinement](#Part-1b:-Hypothesis-refinement)\n",
    "- [Part 2. Queries and data cleaning](#Part-2:-Queries-and-data-cleaning)\n",
    "- [Part 3. Hypothesis testing and interpretation](#Part-3.-Hypothesis-testing-and-interpretation)\n",
    "- [Part 4. Pitching results](#Part-4.-Pitching-results)"
   ]
  },
  {
   "cell_type": "markdown",
   "metadata": {},
   "source": [
    "## Preparation\n",
    "### Load the libraries"
   ]
  },
  {
   "cell_type": "code",
   "execution_count": 2,
   "metadata": {},
   "outputs": [
    {
     "ename": "ModuleNotFoundError",
     "evalue": "No module named 'treeviz'",
     "output_type": "error",
     "traceback": [
      "\u001b[1;31m---------------------------------------------------------------------------\u001b[0m",
      "\u001b[1;31mModuleNotFoundError\u001b[0m                       Traceback (most recent call last)",
      "Cell \u001b[1;32mIn[2], line 9\u001b[0m\n\u001b[0;32m      7\u001b[0m \u001b[38;5;28;01mfrom\u001b[39;00m \u001b[38;5;21;01msklearn\u001b[39;00m\u001b[38;5;21;01m.\u001b[39;00m\u001b[38;5;21;01mmetrics\u001b[39;00m \u001b[38;5;28;01mimport\u001b[39;00m mean_absolute_error, confusion_matrix\n\u001b[0;32m      8\u001b[0m \u001b[38;5;28;01mfrom\u001b[39;00m \u001b[38;5;21;01msklearn\u001b[39;00m\u001b[38;5;21;01m.\u001b[39;00m\u001b[38;5;21;01mmodel_selection\u001b[39;00m \u001b[38;5;28;01mimport\u001b[39;00m train_test_split\n\u001b[1;32m----> 9\u001b[0m \u001b[38;5;28;01mfrom\u001b[39;00m \u001b[38;5;21;01mtreeviz\u001b[39;00m \u001b[38;5;28;01mimport\u001b[39;00m tree_print                            \u001b[38;5;66;03m# to print decision tree\u001b[39;00m\n\u001b[0;32m     11\u001b[0m \u001b[38;5;28;01mimport\u001b[39;00m \u001b[38;5;21;01mscipy\u001b[39;00m\u001b[38;5;21;01m.\u001b[39;00m\u001b[38;5;21;01mstats\u001b[39;00m \u001b[38;5;28;01mas\u001b[39;00m \u001b[38;5;21;01mstats\u001b[39;00m                               \u001b[38;5;66;03m# to compute z-scores\u001b[39;00m\n\u001b[0;32m     12\u001b[0m \u001b[38;5;28;01mfrom\u001b[39;00m \u001b[38;5;21;01mscipy\u001b[39;00m\u001b[38;5;21;01m.\u001b[39;00m\u001b[38;5;21;01minterpolate\u001b[39;00m \u001b[38;5;28;01mimport\u001b[39;00m interp1d\n",
      "\u001b[1;31mModuleNotFoundError\u001b[0m: No module named 'treeviz'"
     ]
    }
   ],
   "source": [
    "import numpy as np\n",
    "import pandas as pd\n",
    "\n",
    "from sklearn.linear_model import LinearRegression         # for linear regression\n",
    "from sklearn.cluster import KMeans                        # for clustering\n",
    "from sklearn.tree import DecisionTreeClassifier           # for decision tree mining\n",
    "from sklearn.metrics import mean_absolute_error, confusion_matrix\n",
    "from sklearn.model_selection import train_test_split\n",
    "from treeviz import tree_print                            # to print decision tree\n",
    "\n",
    "import scipy.stats as stats                               # to compute z-scores\n",
    "from scipy.interpolate import interp1d\n",
    "from scipy.ndimage import gaussian_filter1d\n",
    "import sqlite3                                            # to interact with the database\n",
    "import statsmodels.api as sm\n",
    "from statsmodels.distributions.empirical_distribution import ECDF\n",
    "\n",
    "%matplotlib inline                                 \n",
    "import matplotlib as mpl\n",
    "import matplotlib.pyplot as plt\n",
    "import seaborn as sns                                     # also improves the look of plots\n",
    "sns.set()\n",
    "plt.rcParams['figure.figsize'] = 10, 5                    # default hor./vert. size of plots, in inches\n",
    "plt.rcParams['lines.markeredgewidth'] = 1                 # to fix issue with seaborn box plots; needed after import seaborn"
   ]
  },
  {
   "cell_type": "markdown",
   "metadata": {
    "tags": []
   },
   "source": [
    "## Part 1a: Hypothesis selection"
   ]
  },
  {
   "cell_type": "markdown",
   "metadata": {},
   "source": [
    "# Hypothesis:\n",
    "\n",
    "1. The rural village De Rips, north east of Eindhoven, will have an increase in NOx concentration when the south west wind blows in Eindhoven.\n",
    "2. Utrecht Will have an increase in NOx concentration when the south west wind blows from Amsterdam.\n",
    "\n",
    "**Comment**: We chose these two hypothesis above to find out how does urban cities affect rural villages. Furthermore, we picked Eindhoven and village De Rips\n",
    "as the village is north east of Eindhoven, which is the most frequenct wind direction. The same reason applies to the second hypothesis.\n",
    "\n",
    "3. The correlation between wind speed and NOx concentration in Rotterdam (coast) is higher than in the village De Rips (inland)\n",
    "\n",
    "**Comment** : We are thinking of using machine learning models to compare the correlations between a more windi place (near the coast), namely, Rotterdam, and a less windy place (inland), namely, De Rips. It would be easy to calculate the mean absolute error or just look at the residual plot, whcih would tell us where (inland or coast) is the correleation between the concentration of NOx and windspeed.\n",
    "\n",
    "Eventually, we chose hypothesis 1 as we want there to be a clear difference between the air qualities, because the second hypothesis includes Amsterdam and Utrecht whcih would not be that different. Furthermore, we discarded hypothesis 3 as we thought that this would be too easy."
   ]
  },
  {
   "cell_type": "markdown",
   "metadata": {},
   "source": [
    "## Part 1b: Hypothesis refinement"
   ]
  },
  {
   "cell_type": "markdown",
   "metadata": {},
   "source": [
    "# Hypothesis:\n",
    "\n",
    "The rural village De Rips, **north east** of Eindhoven, will have an increase in $NO_x$ concentration when the **south west** wind **blows** in Eindhoven.\n",
    "\n",
    "# 1. Questions:\n",
    "\n",
    "1. What is the distance between Eindhoven and the village.\n",
    "2. Are there air quality sations in Eindhoven and rural village De Rips?\n",
    "3. Are there weather stations in Eindhoven and rural village De Rips?\n",
    "4. What does SW wind blowing from Eindhoven to De Rips mean specifically?\n",
    "5. Is the wind speed actaully high enough and can travel such a distance (question 1) to have an impact on that village (research) and on what kind of wind will we focus on?\n",
    "6. What is the time frame of our investigation of data?\n",
    "7. What is be bearing of the village from Eindhoven?\n",
    "\n",
    "# 2. Answers:\n",
    "\n",
    "1. The distance is 26 kilometers.\n",
    "2. There are 3 air quality stations in both of the locations.\n",
    "3. There is 1 weather station in Eindhoven and no weather stations in the village De Rips.\n",
    "4. It means the wind that blows from Eindhoven at a bearing of 45 to 75 degrees, which is exactly in the direction of De Rips.\n",
    "5. We researched that the wind speed of SW wind in Eindhoven between 20 - 30 km/h was prevalent for 400 hours per year and between 30-40 km/h for over 200 hours, moreover, the wind speed was higher than 40 km/h for over 130 hours per year. We think it is enough for the wind to actually have an impact on the air quality of village De Rips, moreover, we will investigate the data when the wind speed is higher than $6.5 m/s$, which is around $20 km/h$.\n",
    "6. We will investage the data from 2012 to 2022 .\n",
    "7. It is 60 degrees.\n",
    "\n",
    "# 3. Measuring stations:\n",
    "\n",
    "- Air Quality: \n",
    "\n",
    "We have 3 options to choose from in Eindhoven as there are 3 different air quality stations and it is a high chance that at least on of them will be equipped with NOx concentration sensor. The same is for the village De Rips (there are 3 air quality stations).\n",
    "\n",
    "- Weather:\n",
    "\n",
    "There is only one weather station in Eindhoven and we will most certainly use that one for our weather factors. \n",
    "Unfortunatelly, there are no weather stations in the village De Rips, but we will only need an air quality stations, hence the weather one is not needed.\n",
    "\n",
    "# 4. Approach design:\n",
    "\n",
    "- Which technologies to use:\n",
    "\n",
    "We will use the jupyter notebook to manipulate the data and gather insightful information form it by using data mining methods, visualization technieques, data base manipulation, etc.\n",
    "\n",
    "- What data is needed (incl. sources):\n",
    "\n",
    "The needed data comprises of the wind direction and NOx concentration in Eindhoven from the weather station closest to SW orientation compared to De Rips, and the NOx concentration in De Rips captured from the AQ station with the most NE orientation compared to Eindhoven.\n",
    "\n",
    "- Other steps needed to analyze the hypothesis:\n",
    "\n",
    "The data needs to be cleaned such that any empty, incorrect or variable wind directions or other factors are eliminated. In addition, the data must be sorted based on date and time, and models need to be fit and checked so that all other work is simpler and more efficient.\n",
    "\n",
    "# Units:\n",
    "\n",
    "- Nitrogen oxides: $\\mu g/m^{3}$\n",
    "- Wind speed: $m/s$\n",
    "- Wind direction: degrees\n",
    "\n",
    "# Cofounding variables:\n",
    "\n",
    "The season could be our cofounding variable, as it could effect the correlation between the concentration of nitrogen oxides in Eindhoven and in the village when the wind direction is the right one.\n",
    "\n",
    "# Refined hypothesis:\n",
    "\n",
    "The rural village De Rips, whcich it at a bearing of $60$ degrees and at a distance of $26$ kilometers from Eindhoven, will have an increase in $NO_x$ concentration measured in $\\mu g/m^{3}$ when the wind, with a sufficient wind speed, namely, $6.5 m/s$, at a bearing of $45$ to $75$ degrees blows in Eindhoven.\n"
   ]
  },
  {
   "cell_type": "markdown",
   "metadata": {},
   "source": [
    "## Part 2: Queries and data cleaning"
   ]
  },
  {
   "cell_type": "code",
   "execution_count": null,
   "metadata": {},
   "outputs": [],
   "source": [
    "# Connect to the database:\n",
    "conn = sqlite3.connect('./datasets/aqw.db')"
   ]
  },
  {
   "cell_type": "code",
   "execution_count": null,
   "metadata": {},
   "outputs": [],
   "source": [
    "\n",
    "# Fetch the data containing information about weather and air quality stations:\n",
    "aqs_sql = \"SELECT code, name, latitude, longitude FROM air_quality_stations\"\n",
    "ws_sql = \"SELECT code, name, latitude, longitude FROM weather_stations\"\n",
    "df_aqs = pd.read_sql_query(aqs_sql, conn);\n",
    "df_ws = pd.read_sql_query(ws_sql, conn);"
   ]
  },
  {
   "cell_type": "code",
   "execution_count": null,
   "metadata": {},
   "outputs": [],
   "source": [
    "# Pick the required stations (eindhoven and village De Rips)\n",
    "\n",
    "# Eindhoven aqs: \n",
    "\n",
    "lat_less_E = df_aqs['latitude'] < 51.5\n",
    "lat_more_E = df_aqs['latitude'] > 51.3\n",
    "\n",
    "long_less_E = df_aqs['longitude'] < 5.6\n",
    "long_more_E = df_aqs['longitude'] > 5.3\n",
    "\n",
    "# Vilalge De Rips aqs:\n",
    "\n",
    "lat_less_R = df_aqs['latitude'] < 51.8\n",
    "lat_more_R = df_aqs['latitude'] > 51.5\n",
    "\n",
    "long_less_R = df_aqs['longitude'] < 6\n",
    "long_more_R = df_aqs['longitude'] > 5.7\n",
    "\n",
    "# Eindhoven ws:\n",
    "\n",
    "ws_E = df_ws['name'] =='Eindhoven'\n",
    "\n",
    "# Printing:\n",
    "\n",
    "df_aqs[lat_less_R & lat_more_R & long_less_R & long_more_R], df_aqs[lat_less_E & lat_more_E & long_less_E & long_more_E], df_ws[ws_E]\n",
    "\n",
    "# Note: We get 6 air quality stations (3 in Eindhoven and 3 in the village De Rips) and 1 weather station (in Eindhoven) as desired."
   ]
  },
  {
   "cell_type": "code",
   "execution_count": null,
   "metadata": {},
   "outputs": [],
   "source": [
    "# Choosing 1 station per subject:\n",
    "\n",
    "# Choosing Eindhoven-Genovevalaan aqs: \n",
    "aqs_E_long = df_aqs['longitude'] == 5.472350\n",
    "aqs_E_lat = df_aqs['latitude'] == 51.468662\n",
    "\n",
    "# Choosing De Rips-Blaarpeelweg aqs:\n",
    "aqs_R_long = df_aqs['longitude'] == 5.838202\n",
    "aqs_R_lat = df_aqs['latitude'] == 51.547469\n",
    "\n",
    "\n",
    "# Choosing Eindhoven's ws:\n",
    "ws_E; # Leave it as it is.\n",
    "\n",
    "# Choosing De Rips' ws:\n",
    "# No weather station.\n",
    "\n",
    "# Check if the rigtht ones are selected and find the index number:\n",
    "\n",
    "# df_aqs[aqs_R_lat & aqs_R_long], df_aqs[aqs_E_lat & aqs_E_long], df_ws[ws_E]\n",
    "\n",
    "# Assign the codes of the stations to variabels and print them:\n",
    "aqs_R_code = df_aqs['code'].loc[94]\n",
    "aqs_E_code = df_aqs['code'].loc[25]\n",
    "ws_E_code = df_ws['code'].loc[12]\n",
    "\n",
    "aqs_R_code, aqs_E_code, ws_E_code"
   ]
  },
  {
   "cell_type": "code",
   "execution_count": null,
   "metadata": {},
   "outputs": [],
   "source": [
    "# Define a variable for our compound and weather factor:\n",
    "\n",
    "compound = 'no_x'\n",
    "weather_factors = ['wind_speed', 'wind_direction']"
   ]
  },
  {
   "cell_type": "code",
   "execution_count": null,
   "metadata": {},
   "outputs": [],
   "source": [
    "# Find the data of selected air quality and weather stations:\n",
    "\n",
    "# Query for fetching air quality data in Eindhoven:  \n",
    "query_aqs_E = f\"\"\"\n",
    "    SELECT datetime, {compound}\n",
    "    FROM air_quality_data \n",
    "    WHERE station_code='{aqs_E_code}'\n",
    "\"\"\"\n",
    "# Query for fetching air quality data in the village De Rips:\n",
    "query_aqs_R = f\"\"\"\n",
    "    SELECT datetime, {compound}\n",
    "    FROM air_quality_data \n",
    "    WHERE station_code='{aqs_R_code}'\n",
    "\"\"\"\n",
    "\n",
    "# Query for fetching weather data in Eindhoven:\n",
    "query_ws_E = f\"\"\"\n",
    "    SELECT datetime, {', '.join(weather_factors)} \n",
    "    FROM weather_data \n",
    "    WHERE station_code={ws_E_code}\n",
    "\"\"\"\n",
    "\n",
    "# Get the desired compound info from the air quality station\n",
    "df_aqs_E = pd.read_sql_query(query_aqs_E, conn, \n",
    "                          index_col='datetime', \n",
    "                          parse_dates=['datetime'])\n",
    "\n",
    "# Get the desired compound info from the air quality station\n",
    "df_aqs_R = pd.read_sql_query(query_aqs_R, conn, \n",
    "                          index_col='datetime', \n",
    "                          parse_dates=['datetime'])\n",
    "\n",
    "# Find the data of selected weather station in Eindhoven:\n",
    "df_ws_E = pd.read_sql_query(query_ws_E, conn, \n",
    "                          index_col='datetime', \n",
    "                          parse_dates=['datetime'])"
   ]
  },
  {
   "cell_type": "code",
   "execution_count": null,
   "metadata": {},
   "outputs": [],
   "source": [
    "# Get some information about the construction of the data:\n",
    "df_aqs_E.info(), df_aqs_R.info(), df_ws_E.info()\n",
    "\n",
    "# We can see that there is only air quality data up to 2017-01-01 from one of the air quality columns, hence, we will try other weather stations in the vilalge."
   ]
  },
  {
   "cell_type": "code",
   "execution_count": null,
   "metadata": {},
   "outputs": [],
   "source": [
    "# Find another weather data:\n",
    "\n",
    "aqs_R_long = df_aqs['longitude'] == 5.853070\n",
    "aqs_R_lat = df_aqs['latitude'] == 51.540520\n",
    "\n",
    "df_aqs[aqs_R_long & aqs_R_lat]"
   ]
  },
  {
   "cell_type": "code",
   "execution_count": null,
   "metadata": {},
   "outputs": [],
   "source": [
    "# Choose another station and fetch data from it:\n",
    "\n",
    "aqs_R_code = df_aqs['code'].loc[2]\n",
    "\n",
    "conn = sqlite3.connect('./datasets/aqw.db'); \n",
    "\n",
    "query_aqs_R = f\"\"\"\n",
    "    SELECT datetime, {compound}\n",
    "    FROM air_quality_data \n",
    "    WHERE station_code='{aqs_R_code}'\n",
    "\"\"\"\n",
    "df_aqs_R = pd.read_sql_query(query_aqs_R, conn, \n",
    "                          index_col='datetime', \n",
    "                          parse_dates=['datetime'])\n",
    "\n",
    "df_aqs_R.info()\n",
    "# Fortunately, with this data table, we see that there are data up to 2022 like in the other data frames."
   ]
  },
  {
   "cell_type": "code",
   "execution_count": null,
   "metadata": {},
   "outputs": [],
   "source": [
    "# Get some information about the construction of our new data:\n",
    "df_aqs_E.info(), df_aqs_R.info(), df_ws_E.info()\n",
    "\n",
    "# We see, that starting dates are not the same, hence, we will equalize them:\n",
    "\n",
    "# Get starting measurement dates\n",
    "start_compound1_E = df_aqs_E[df_aqs_E[compound].notna()].index.min()\n",
    "start_compound1_R = df_aqs_R[df_aqs_R[compound].notna()].index.min()\n",
    "start_factor1 = df_ws_E[df_ws_E[weather_factors[0]].notna()].index.min()\n",
    "start_factor2 = df_ws_E[df_ws_E[weather_factors[1]].notna()].index.min()\n",
    "\n",
    "# Get ending measurement dates\n",
    "end_compound1_E = df_aqs_E[df_aqs_E[compound].notna()].index.max()\n",
    "end_compound1_R = df_aqs_R[df_aqs_R[compound].notna()].index.max()\n",
    "end_factor1 = df_ws_E[df_ws_E[weather_factors[0]].notna()].index.max()\n",
    "end_factor2 = df_ws_E[df_ws_E[weather_factors[1]].notna()].index.max()\n",
    "\n",
    "start_measurement = max(start_compound1_E, start_compound1_R, start_factor1, start_factor1)\n",
    "end_measurement = min(end_compound1_E, end_compound1_R, end_factor1, end_factor2)\n",
    "\n",
    "print(start_measurement, end_measurement)"
   ]
  },
  {
   "cell_type": "code",
   "execution_count": null,
   "metadata": {},
   "outputs": [],
   "source": [
    "# Filter the data according to the date:\n",
    "df_aqs_E = df_aqs_E.loc[start_measurement:end_measurement]\n",
    "df_aqs_R = df_aqs_R.loc[start_measurement:end_measurement]\n",
    "df_ws_E = df_ws_E.loc[start_measurement:end_measurement]\n",
    "\n",
    "# Change the column names of Eindhoven and village's data frame"
   ]
  },
  {
   "cell_type": "code",
   "execution_count": null,
   "metadata": {},
   "outputs": [],
   "source": [
    "# Merge the data into one dataframe:\n",
    "\n",
    "df_merged = pd.merge(df_aqs_R, pd.merge(df_aqs_E, df_ws_E, on = 'datetime'), on = 'datetime')\n",
    "\n",
    "# Finally, check information about the data construction again on the merged df:\n",
    "df_merged.head()"
   ]
  },
  {
   "cell_type": "code",
   "execution_count": null,
   "metadata": {},
   "outputs": [],
   "source": [
    "# Get some information about the construction of the data:\n",
    "df_merged.describe()"
   ]
  },
  {
   "cell_type": "code",
   "execution_count": null,
   "metadata": {},
   "outputs": [],
   "source": [
    "# Removing null values:\n",
    "\n",
    "# We need the data to meet the following criteria:\n",
    "# 1. Have no null values in the air quality data of Eindhoven\n",
    "# 2. Have no null values in the air quality data of The village De Rips\n",
    "# 3. Have no null values in the  data of Eindhoven\n",
    "\n",
    "\n",
    "# Find the true or false series:\n",
    "tf_series = df_merged['no_x_x'].notna() & df_merged['no_x_y'].notna() & df_merged['wind_direction'].notna() & df_merged['wind_speed'].notna()\n",
    "\n",
    "# Assign the final dataframe to a variable and print it afterwards\n",
    "df = df_merged[tf_series]\n",
    "\n",
    "# Fill negative values (which is impossible) with the averages of the values next to it:\n",
    "negative_series = df['no_x_x'] >= 0\n",
    "df = df[negative_series].copy()"
   ]
  },
  {
   "cell_type": "code",
   "execution_count": null,
   "metadata": {},
   "outputs": [],
   "source": [
    "# Check for null values\n",
    "df.describe()"
   ]
  },
  {
   "cell_type": "markdown",
   "metadata": {},
   "source": [
    "## Part 3. Hypothesis testing and interpretation"
   ]
  },
  {
   "cell_type": "code",
   "execution_count": null,
   "metadata": {},
   "outputs": [],
   "source": [
    "# Use this cell as you like, and add more cells as needed.\n",
    "\n",
    "# Ideas:\n",
    "\n",
    "# Wind speed and wind direction in degrees.\n",
    "# Find when most often we have south west wind in Eindhoven and find the interval.\n",
    "\n",
    "# Use this cell as you like, and add more cells as needed.\n",
    "#Selected hypothesis:\n",
    "#The rural village De Rips, north east of Eindhoven, will have an increase in NOx concentration when the south west wind blows in Eindhoven.\n",
    "#Write ideas in this cell ONLY\n",
    "#NOx concentration, wind speed,wind direction are to be tested such that wind speed, wind direction are dependent variables and\n",
    "#NOx concentration is the dependent variable. \n",
    "#Plot data with date_time units and find all dates where the wind direction is Southwest (45-75° bearing) ONLY using an SQL query, related to date. \n",
    "#Determine the correlation between the air quality in De Rips and in Eindhoven per day using a _ data mining method, then find\n",
    "#correlation between the above correlation, wind speed and wind direction using _ data mining method and visual analysis.\n",
    "#Compare the means between the NOx concentration for different wind speeds and exact wind directions using plotting methods."
   ]
  },
  {
   "cell_type": "code",
   "execution_count": null,
   "metadata": {},
   "outputs": [],
   "source": [
    "#Cell for code of Hypothesis testing\n",
    "X_df = df[['wind_speed', 'wind_direction']]\n",
    "y_df = df['no_x']"
   ]
  },
  {
   "cell_type": "markdown",
   "metadata": {},
   "source": []
  },
  {
   "cell_type": "markdown",
   "metadata": {},
   "source": [
    "## Part 4. Polishing and pitching results"
   ]
  },
  {
   "cell_type": "code",
   "execution_count": null,
   "metadata": {},
   "outputs": [],
   "source": [
    "# This section is only for generating figures if you need it. You may leave it empty."
   ]
  },
  {
   "cell_type": "markdown",
   "metadata": {},
   "source": [
    "# Feedback\n",
    "\n",
    "Please fill in this questionaire to help us improve this course for the next year. Your feedback will be anonymized and will not affect your grade in any way!"
   ]
  },
  {
   "cell_type": "markdown",
   "metadata": {},
   "source": [
    "### How many hours did you spend on these exercises?\n",
    "\n",
    "Assign a number to `feedback_time`."
   ]
  },
  {
   "cell_type": "code",
   "execution_count": null,
   "metadata": {},
   "outputs": [],
   "source": [
    "#// BEGIN_FEEDBACK [Feedback_1] (0 point)\n",
    "\n",
    "#// END_FEEDBACK [Feedback_1] (0 point)\n",
    "\n",
    "import numbers\n",
    "\n",
    "assert isinstance(feedback_time, numbers.Number), \"Please assign a number to feedback_time\"\n",
    "print(feedback_time)"
   ]
  },
  {
   "cell_type": "markdown",
   "metadata": {},
   "source": [
    "### How difficult did you find these exercises?\n",
    "\n",
    "Assign an integer to `feedback_difficulty`, on a scale 0 - 10, with 0 being very easy, 5 being just right, and 10 being very difficult."
   ]
  },
  {
   "cell_type": "code",
   "execution_count": null,
   "metadata": {},
   "outputs": [],
   "source": [
    "#// BEGIN_FEEDBACK [Feedback_2] (0 point)\n",
    "\n",
    "#// END_FEEDBACK [Feedback_2] (0 point)\n",
    "\n",
    "import numbers\n",
    "\n",
    "assert isinstance(feedback_difficulty, numbers.Number), \"Please assign a number to feedback_difficulty\"\n",
    "print(feedback_difficulty)"
   ]
  },
  {
   "cell_type": "markdown",
   "metadata": {},
   "source": [
    "### (Optional) What did you like?\n",
    "\n",
    "Assign a string to `feedback_like`."
   ]
  },
  {
   "cell_type": "code",
   "execution_count": null,
   "metadata": {},
   "outputs": [],
   "source": [
    "#// BEGIN_FEEDBACK [Feedback_3] (0 point)\n",
    "\n",
    "#// END_FEEDBACK [Feedback_3] (0 point)"
   ]
  },
  {
   "cell_type": "markdown",
   "metadata": {},
   "source": [
    "### (Optional) What can be improved?\n",
    "\n",
    "Assign a string to `feedback_improve`. Please be specific, so that we can act on your feedback. For example, mention the specific exercises and what was unclear."
   ]
  },
  {
   "cell_type": "code",
   "execution_count": null,
   "metadata": {},
   "outputs": [],
   "source": [
    "#// BEGIN_FEEDBACK [Feedback_4] (0 point)\n",
    "\n",
    "#// END_FEEDBACK [Feedback_4] (0 point)"
   ]
  },
  {
   "cell_type": "markdown",
   "metadata": {},
   "source": [
    "\n",
    "\n",
    "\n",
    "## How to Submit Your Work\n",
    "\n",
    "1. **Before submitting**, you must run your notebook by doing **Kernel > Restart & Run All**.  \n",
    "   Make sure that your notebook runs without errors **in linear order**.\n",
    "1. Remember to rename the notebook as explained at the beginning of this notebook.\n",
    "1. Submit the executed notebook with your work\n",
    "   for the appropriate assignment in **Canvas**.\n",
    "1. In the **Momotor** tab in Canvas,\n",
    "  you can select that assignment again to find some feedback on your submitted work.\n",
    "  If there are any problems reported by _Momotor_,\n",
    "  then you need to fix those,\n",
    "  and **resubmit the fixed notebook**.\n",
    "\n",
    "In case of a high workload on our server\n",
    "(because many students submit close to the deadline),\n",
    "it may take longer to receive the feedback.\n",
    "\n",
    "\n"
   ]
  },
  {
   "cell_type": "markdown",
   "metadata": {},
   "source": [
    "---"
   ]
  },
  {
   "cell_type": "code",
   "execution_count": null,
   "metadata": {},
   "outputs": [],
   "source": [
    "# List all defined names\n",
    "%whos"
   ]
  },
  {
   "cell_type": "markdown",
   "metadata": {},
   "source": [
    "---\n",
    "\n",
    "# (End of Notebook) <span class=\"tocSkip\"></span>\n",
    "\n",
    "&copy; 2017-2023 - **TU/e** - Eindhoven University of Technology"
   ]
  }
 ],
 "metadata": {
  "anaconda-cloud": {},
  "hide_input": false,
  "kernelspec": {
   "display_name": "Python 3 (ipykernel)",
   "language": "python",
   "name": "python3"
  },
  "language_info": {
   "codemirror_mode": {
    "name": "ipython",
    "version": 3
   },
   "file_extension": ".py",
   "mimetype": "text/x-python",
   "name": "python",
   "nbconvert_exporter": "python",
   "pygments_lexer": "ipython3",
   "version": "3.10.9"
  },
  "toc": {
   "base_numbering": 1,
   "nav_menu": {
    "height": "264px",
    "width": "252px"
   },
   "number_sections": false,
   "sideBar": true,
   "skip_h1_title": false,
   "title_cell": "Table of Contents",
   "title_sidebar": "Contents",
   "toc_cell": true,
   "toc_position": {
    "height": "calc(100% - 180px)",
    "left": "10px",
    "top": "150px",
    "width": "234px"
   },
   "toc_section_display": "block",
   "toc_window_display": true
  },
  "vscode": {
   "interpreter": {
    "hash": "60e5673dee0b20898bfa4f3c497959fb0c8d0d39a7f6ea9d7f166a7012267d3f"
   }
  }
 },
 "nbformat": 4,
 "nbformat_minor": 4
}
