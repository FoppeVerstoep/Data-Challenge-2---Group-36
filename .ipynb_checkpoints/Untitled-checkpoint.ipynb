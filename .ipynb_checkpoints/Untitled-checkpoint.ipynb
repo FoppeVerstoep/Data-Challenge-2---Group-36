{
 "cells": [
  {
   "cell_type": "code",
   "execution_count": 7,
   "id": "f062a5bc",
   "metadata": {},
   "outputs": [
    {
     "data": {
      "text/plain": [
       "1.959963984540054"
      ]
     },
     "execution_count": 7,
     "metadata": {},
     "output_type": "execute_result"
    }
   ],
   "source": [
    "import scipy.stats as sc\n",
    "sc.norm.ppf(1-0.05/2)\n"
   ]
  },
  {
   "cell_type": "code",
   "execution_count": null,
   "id": "4c7b6e35",
   "metadata": {},
   "outputs": [],
   "source": []
  }
 ],
 "metadata": {
  "kernelspec": {
   "display_name": "Python 3 (ipykernel)",
   "language": "python",
   "name": "python3"
  },
  "language_info": {
   "codemirror_mode": {
    "name": "ipython",
    "version": 3
   },
   "file_extension": ".py",
   "mimetype": "text/x-python",
   "name": "python",
   "nbconvert_exporter": "python",
   "pygments_lexer": "ipython3",
   "version": "3.10.9"
  }
 },
 "nbformat": 4,
 "nbformat_minor": 5
}
