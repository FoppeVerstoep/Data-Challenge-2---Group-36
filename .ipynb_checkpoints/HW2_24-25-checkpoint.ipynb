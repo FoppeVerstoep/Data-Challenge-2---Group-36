{
 "cells": [
  {
   "cell_type": "code",
   "execution_count": 1,
   "id": "a4503333-0323-4707-9716-ebca5825f297",
   "metadata": {},
   "outputs": [],
   "source": [
    "import os\n",
    "\n",
    "import pandas as pd # pandas is a data manipulation library\n",
    "import numpy as np #provides numerical arrays and functions to manipulate the arrays efficiently\n",
    "import matplotlib.pyplot as plt # data visualization library\n",
    "import seaborn as sns\n",
    "\n",
    "from sklearn import datasets\n",
    "from sklearn.datasets import fetch_olivetti_faces"
   ]
  },
  {
   "cell_type": "code",
   "execution_count": 2,
   "id": "667f88dc-c173-44e4-8db6-b061e10ea12c",
   "metadata": {},
   "outputs": [],
   "source": [
    "np.set_printoptions(precision=5)"
   ]
  },
  {
   "cell_type": "markdown",
   "id": "52a804d4-ff80-4a2b-b937-a32d2604a44e",
   "metadata": {},
   "source": [
    "# Movielens Data Exploration\n",
    "To read the dataset, you might need to alter the path to look for it, but if you put the data in a folder `datasets/ml-latest-small/` which is in the same directory where your notebook lies, this should work: "
   ]
  },
  {
   "cell_type": "code",
   "execution_count": 3,
   "id": "b878688e-7400-4517-a9f3-d6569cd4c30e",
   "metadata": {},
   "outputs": [
    {
     "data": {
      "text/html": [
       "<div>\n",
       "<style scoped>\n",
       "    .dataframe tbody tr th:only-of-type {\n",
       "        vertical-align: middle;\n",
       "    }\n",
       "\n",
       "    .dataframe tbody tr th {\n",
       "        vertical-align: top;\n",
       "    }\n",
       "\n",
       "    .dataframe thead th {\n",
       "        text-align: right;\n",
       "    }\n",
       "</style>\n",
       "<table border=\"1\" class=\"dataframe\">\n",
       "  <thead>\n",
       "    <tr style=\"text-align: right;\">\n",
       "      <th></th>\n",
       "      <th>movieId</th>\n",
       "      <th>title</th>\n",
       "      <th>genres</th>\n",
       "    </tr>\n",
       "  </thead>\n",
       "  <tbody>\n",
       "    <tr>\n",
       "      <th>0</th>\n",
       "      <td>1</td>\n",
       "      <td>Toy Story (1995)</td>\n",
       "      <td>Adventure|Animation|Children|Comedy|Fantasy</td>\n",
       "    </tr>\n",
       "    <tr>\n",
       "      <th>1</th>\n",
       "      <td>2</td>\n",
       "      <td>Jumanji (1995)</td>\n",
       "      <td>Adventure|Children|Fantasy</td>\n",
       "    </tr>\n",
       "    <tr>\n",
       "      <th>2</th>\n",
       "      <td>3</td>\n",
       "      <td>Grumpier Old Men (1995)</td>\n",
       "      <td>Comedy|Romance</td>\n",
       "    </tr>\n",
       "    <tr>\n",
       "      <th>3</th>\n",
       "      <td>4</td>\n",
       "      <td>Waiting to Exhale (1995)</td>\n",
       "      <td>Comedy|Drama|Romance</td>\n",
       "    </tr>\n",
       "    <tr>\n",
       "      <th>4</th>\n",
       "      <td>5</td>\n",
       "      <td>Father of the Bride Part II (1995)</td>\n",
       "      <td>Comedy</td>\n",
       "    </tr>\n",
       "    <tr>\n",
       "      <th>5</th>\n",
       "      <td>6</td>\n",
       "      <td>Heat (1995)</td>\n",
       "      <td>Action|Crime|Thriller</td>\n",
       "    </tr>\n",
       "    <tr>\n",
       "      <th>6</th>\n",
       "      <td>7</td>\n",
       "      <td>Sabrina (1995)</td>\n",
       "      <td>Comedy|Romance</td>\n",
       "    </tr>\n",
       "    <tr>\n",
       "      <th>7</th>\n",
       "      <td>8</td>\n",
       "      <td>Tom and Huck (1995)</td>\n",
       "      <td>Adventure|Children</td>\n",
       "    </tr>\n",
       "    <tr>\n",
       "      <th>8</th>\n",
       "      <td>9</td>\n",
       "      <td>Sudden Death (1995)</td>\n",
       "      <td>Action</td>\n",
       "    </tr>\n",
       "    <tr>\n",
       "      <th>9</th>\n",
       "      <td>10</td>\n",
       "      <td>GoldenEye (1995)</td>\n",
       "      <td>Action|Adventure|Thriller</td>\n",
       "    </tr>\n",
       "  </tbody>\n",
       "</table>\n",
       "</div>"
      ],
      "text/plain": [
       "   movieId                               title  \\\n",
       "0        1                    Toy Story (1995)   \n",
       "1        2                      Jumanji (1995)   \n",
       "2        3             Grumpier Old Men (1995)   \n",
       "3        4            Waiting to Exhale (1995)   \n",
       "4        5  Father of the Bride Part II (1995)   \n",
       "5        6                         Heat (1995)   \n",
       "6        7                      Sabrina (1995)   \n",
       "7        8                 Tom and Huck (1995)   \n",
       "8        9                 Sudden Death (1995)   \n",
       "9       10                    GoldenEye (1995)   \n",
       "\n",
       "                                        genres  \n",
       "0  Adventure|Animation|Children|Comedy|Fantasy  \n",
       "1                   Adventure|Children|Fantasy  \n",
       "2                               Comedy|Romance  \n",
       "3                         Comedy|Drama|Romance  \n",
       "4                                       Comedy  \n",
       "5                        Action|Crime|Thriller  \n",
       "6                               Comedy|Romance  \n",
       "7                           Adventure|Children  \n",
       "8                                       Action  \n",
       "9                    Action|Adventure|Thriller  "
      ]
     },
     "execution_count": 3,
     "metadata": {},
     "output_type": "execute_result"
    }
   ],
   "source": [
    "# lets explore movies.csv\n",
    "movies= pd.read_csv(os.path.join('datasets', 'ml-latest-small', 'movies.csv'))\n",
    "movies.head(10)"
   ]
  },
  {
   "cell_type": "code",
   "execution_count": 4,
   "id": "ce55b3ff-b3af-46ce-a748-2a3c5db10bef",
   "metadata": {},
   "outputs": [
    {
     "data": {
      "text/html": [
       "<div>\n",
       "<style scoped>\n",
       "    .dataframe tbody tr th:only-of-type {\n",
       "        vertical-align: middle;\n",
       "    }\n",
       "\n",
       "    .dataframe tbody tr th {\n",
       "        vertical-align: top;\n",
       "    }\n",
       "\n",
       "    .dataframe thead th {\n",
       "        text-align: right;\n",
       "    }\n",
       "</style>\n",
       "<table border=\"1\" class=\"dataframe\">\n",
       "  <thead>\n",
       "    <tr style=\"text-align: right;\">\n",
       "      <th></th>\n",
       "      <th>userId</th>\n",
       "      <th>movieId</th>\n",
       "      <th>rating</th>\n",
       "      <th>timestamp</th>\n",
       "    </tr>\n",
       "  </thead>\n",
       "  <tbody>\n",
       "    <tr>\n",
       "      <th>0</th>\n",
       "      <td>1</td>\n",
       "      <td>1</td>\n",
       "      <td>4.0</td>\n",
       "      <td>964982703</td>\n",
       "    </tr>\n",
       "    <tr>\n",
       "      <th>1</th>\n",
       "      <td>1</td>\n",
       "      <td>3</td>\n",
       "      <td>4.0</td>\n",
       "      <td>964981247</td>\n",
       "    </tr>\n",
       "    <tr>\n",
       "      <th>2</th>\n",
       "      <td>1</td>\n",
       "      <td>6</td>\n",
       "      <td>4.0</td>\n",
       "      <td>964982224</td>\n",
       "    </tr>\n",
       "    <tr>\n",
       "      <th>3</th>\n",
       "      <td>1</td>\n",
       "      <td>47</td>\n",
       "      <td>5.0</td>\n",
       "      <td>964983815</td>\n",
       "    </tr>\n",
       "    <tr>\n",
       "      <th>4</th>\n",
       "      <td>1</td>\n",
       "      <td>50</td>\n",
       "      <td>5.0</td>\n",
       "      <td>964982931</td>\n",
       "    </tr>\n",
       "    <tr>\n",
       "      <th>5</th>\n",
       "      <td>1</td>\n",
       "      <td>70</td>\n",
       "      <td>3.0</td>\n",
       "      <td>964982400</td>\n",
       "    </tr>\n",
       "    <tr>\n",
       "      <th>6</th>\n",
       "      <td>1</td>\n",
       "      <td>101</td>\n",
       "      <td>5.0</td>\n",
       "      <td>964980868</td>\n",
       "    </tr>\n",
       "    <tr>\n",
       "      <th>7</th>\n",
       "      <td>1</td>\n",
       "      <td>110</td>\n",
       "      <td>4.0</td>\n",
       "      <td>964982176</td>\n",
       "    </tr>\n",
       "    <tr>\n",
       "      <th>8</th>\n",
       "      <td>1</td>\n",
       "      <td>151</td>\n",
       "      <td>5.0</td>\n",
       "      <td>964984041</td>\n",
       "    </tr>\n",
       "    <tr>\n",
       "      <th>9</th>\n",
       "      <td>1</td>\n",
       "      <td>157</td>\n",
       "      <td>5.0</td>\n",
       "      <td>964984100</td>\n",
       "    </tr>\n",
       "  </tbody>\n",
       "</table>\n",
       "</div>"
      ],
      "text/plain": [
       "   userId  movieId  rating  timestamp\n",
       "0       1        1     4.0  964982703\n",
       "1       1        3     4.0  964981247\n",
       "2       1        6     4.0  964982224\n",
       "3       1       47     5.0  964983815\n",
       "4       1       50     5.0  964982931\n",
       "5       1       70     3.0  964982400\n",
       "6       1      101     5.0  964980868\n",
       "7       1      110     4.0  964982176\n",
       "8       1      151     5.0  964984041\n",
       "9       1      157     5.0  964984100"
      ]
     },
     "execution_count": 4,
     "metadata": {},
     "output_type": "execute_result"
    }
   ],
   "source": [
    "# lets explore ratings.csv\n",
    "ratings=pd.read_csv(os.path.join('datasets', 'ml-latest-small', 'ratings.csv'), sep=',')\n",
    "ratings.head(10)"
   ]
  },
  {
   "cell_type": "markdown",
   "id": "992c4193-57f6-4919-8dd2-c8a05ee442d8",
   "metadata": {},
   "source": [
    "The original ratings are in the range of 0.5 and 5:"
   ]
  },
  {
   "cell_type": "code",
   "execution_count": 5,
   "id": "ca666282-07c4-4f16-a2d0-0422d69d5095",
   "metadata": {},
   "outputs": [
    {
     "data": {
      "text/plain": [
       "(0.5, 5.0)"
      ]
     },
     "execution_count": 5,
     "metadata": {},
     "output_type": "execute_result"
    }
   ],
   "source": [
    "min(ratings[\"rating\"]), max(ratings[\"rating\"])"
   ]
  },
  {
   "cell_type": "markdown",
   "id": "7fa7ae72-5bbf-4035-84f9-dc40b1a5ba60",
   "metadata": {},
   "source": [
    "The mean rating is 2.75."
   ]
  },
  {
   "cell_type": "code",
   "execution_count": 6,
   "id": "c6e938f4-a1fb-45d2-8c7a-75d1be175a41",
   "metadata": {},
   "outputs": [
    {
     "data": {
      "text/plain": [
       "2.75"
      ]
     },
     "execution_count": 6,
     "metadata": {},
     "output_type": "execute_result"
    }
   ],
   "source": [
    "μ = np.mean(pd.unique(ratings[\"rating\"]))\n",
    "μ"
   ]
  },
  {
   "cell_type": "markdown",
   "id": "3984fe6a-9ea4-4458-9ef8-23dfa4d31b88",
   "metadata": {},
   "source": [
    "We convert the sparse representation of movie ratings as a list of observed entries into a users times movies data matrix. "
   ]
  },
  {
   "cell_type": "code",
   "execution_count": 7,
   "id": "365036d2-d7e9-4988-8a2d-bead962e423f",
   "metadata": {},
   "outputs": [
    {
     "data": {
      "text/plain": [
       "(610, 9724)"
      ]
     },
     "execution_count": 7,
     "metadata": {},
     "output_type": "execute_result"
    }
   ],
   "source": [
    "df_D_NA = ratings.pivot(\n",
    "    index='userId',\n",
    "    columns='movieId',\n",
    "    values='rating'\n",
    ")\n",
    "df_D_NA.head()\n",
    "df_D_NA.shape"
   ]
  },
  {
   "cell_type": "markdown",
   "id": "024deeee-2827-4d67-b84d-2a4e07c5f771",
   "metadata": {},
   "source": [
    "We impute the missing values with the mean rating $\\mu$."
   ]
  },
  {
   "cell_type": "code",
   "execution_count": 8,
   "id": "747ffe33-cf7d-4c5c-aee2-bd8cddc71d39",
   "metadata": {},
   "outputs": [
    {
     "data": {
      "text/html": [
       "<div>\n",
       "<style scoped>\n",
       "    .dataframe tbody tr th:only-of-type {\n",
       "        vertical-align: middle;\n",
       "    }\n",
       "\n",
       "    .dataframe tbody tr th {\n",
       "        vertical-align: top;\n",
       "    }\n",
       "\n",
       "    .dataframe thead th {\n",
       "        text-align: right;\n",
       "    }\n",
       "</style>\n",
       "<table border=\"1\" class=\"dataframe\">\n",
       "  <thead>\n",
       "    <tr style=\"text-align: right;\">\n",
       "      <th>movieId</th>\n",
       "      <th>1</th>\n",
       "      <th>2</th>\n",
       "      <th>3</th>\n",
       "      <th>4</th>\n",
       "      <th>5</th>\n",
       "      <th>6</th>\n",
       "      <th>7</th>\n",
       "      <th>8</th>\n",
       "      <th>9</th>\n",
       "      <th>10</th>\n",
       "      <th>...</th>\n",
       "      <th>193565</th>\n",
       "      <th>193567</th>\n",
       "      <th>193571</th>\n",
       "      <th>193573</th>\n",
       "      <th>193579</th>\n",
       "      <th>193581</th>\n",
       "      <th>193583</th>\n",
       "      <th>193585</th>\n",
       "      <th>193587</th>\n",
       "      <th>193609</th>\n",
       "    </tr>\n",
       "    <tr>\n",
       "      <th>userId</th>\n",
       "      <th></th>\n",
       "      <th></th>\n",
       "      <th></th>\n",
       "      <th></th>\n",
       "      <th></th>\n",
       "      <th></th>\n",
       "      <th></th>\n",
       "      <th></th>\n",
       "      <th></th>\n",
       "      <th></th>\n",
       "      <th></th>\n",
       "      <th></th>\n",
       "      <th></th>\n",
       "      <th></th>\n",
       "      <th></th>\n",
       "      <th></th>\n",
       "      <th></th>\n",
       "      <th></th>\n",
       "      <th></th>\n",
       "      <th></th>\n",
       "      <th></th>\n",
       "    </tr>\n",
       "  </thead>\n",
       "  <tbody>\n",
       "    <tr>\n",
       "      <th>1</th>\n",
       "      <td>4.00</td>\n",
       "      <td>2.75</td>\n",
       "      <td>4.00</td>\n",
       "      <td>2.75</td>\n",
       "      <td>2.75</td>\n",
       "      <td>4.00</td>\n",
       "      <td>2.75</td>\n",
       "      <td>2.75</td>\n",
       "      <td>2.75</td>\n",
       "      <td>2.75</td>\n",
       "      <td>...</td>\n",
       "      <td>2.75</td>\n",
       "      <td>2.75</td>\n",
       "      <td>2.75</td>\n",
       "      <td>2.75</td>\n",
       "      <td>2.75</td>\n",
       "      <td>2.75</td>\n",
       "      <td>2.75</td>\n",
       "      <td>2.75</td>\n",
       "      <td>2.75</td>\n",
       "      <td>2.75</td>\n",
       "    </tr>\n",
       "    <tr>\n",
       "      <th>2</th>\n",
       "      <td>2.75</td>\n",
       "      <td>2.75</td>\n",
       "      <td>2.75</td>\n",
       "      <td>2.75</td>\n",
       "      <td>2.75</td>\n",
       "      <td>2.75</td>\n",
       "      <td>2.75</td>\n",
       "      <td>2.75</td>\n",
       "      <td>2.75</td>\n",
       "      <td>2.75</td>\n",
       "      <td>...</td>\n",
       "      <td>2.75</td>\n",
       "      <td>2.75</td>\n",
       "      <td>2.75</td>\n",
       "      <td>2.75</td>\n",
       "      <td>2.75</td>\n",
       "      <td>2.75</td>\n",
       "      <td>2.75</td>\n",
       "      <td>2.75</td>\n",
       "      <td>2.75</td>\n",
       "      <td>2.75</td>\n",
       "    </tr>\n",
       "    <tr>\n",
       "      <th>3</th>\n",
       "      <td>2.75</td>\n",
       "      <td>2.75</td>\n",
       "      <td>2.75</td>\n",
       "      <td>2.75</td>\n",
       "      <td>2.75</td>\n",
       "      <td>2.75</td>\n",
       "      <td>2.75</td>\n",
       "      <td>2.75</td>\n",
       "      <td>2.75</td>\n",
       "      <td>2.75</td>\n",
       "      <td>...</td>\n",
       "      <td>2.75</td>\n",
       "      <td>2.75</td>\n",
       "      <td>2.75</td>\n",
       "      <td>2.75</td>\n",
       "      <td>2.75</td>\n",
       "      <td>2.75</td>\n",
       "      <td>2.75</td>\n",
       "      <td>2.75</td>\n",
       "      <td>2.75</td>\n",
       "      <td>2.75</td>\n",
       "    </tr>\n",
       "    <tr>\n",
       "      <th>4</th>\n",
       "      <td>2.75</td>\n",
       "      <td>2.75</td>\n",
       "      <td>2.75</td>\n",
       "      <td>2.75</td>\n",
       "      <td>2.75</td>\n",
       "      <td>2.75</td>\n",
       "      <td>2.75</td>\n",
       "      <td>2.75</td>\n",
       "      <td>2.75</td>\n",
       "      <td>2.75</td>\n",
       "      <td>...</td>\n",
       "      <td>2.75</td>\n",
       "      <td>2.75</td>\n",
       "      <td>2.75</td>\n",
       "      <td>2.75</td>\n",
       "      <td>2.75</td>\n",
       "      <td>2.75</td>\n",
       "      <td>2.75</td>\n",
       "      <td>2.75</td>\n",
       "      <td>2.75</td>\n",
       "      <td>2.75</td>\n",
       "    </tr>\n",
       "    <tr>\n",
       "      <th>5</th>\n",
       "      <td>4.00</td>\n",
       "      <td>2.75</td>\n",
       "      <td>2.75</td>\n",
       "      <td>2.75</td>\n",
       "      <td>2.75</td>\n",
       "      <td>2.75</td>\n",
       "      <td>2.75</td>\n",
       "      <td>2.75</td>\n",
       "      <td>2.75</td>\n",
       "      <td>2.75</td>\n",
       "      <td>...</td>\n",
       "      <td>2.75</td>\n",
       "      <td>2.75</td>\n",
       "      <td>2.75</td>\n",
       "      <td>2.75</td>\n",
       "      <td>2.75</td>\n",
       "      <td>2.75</td>\n",
       "      <td>2.75</td>\n",
       "      <td>2.75</td>\n",
       "      <td>2.75</td>\n",
       "      <td>2.75</td>\n",
       "    </tr>\n",
       "  </tbody>\n",
       "</table>\n",
       "<p>5 rows × 9724 columns</p>\n",
       "</div>"
      ],
      "text/plain": [
       "movieId  1       2       3       4       5       6       7       8       \\\n",
       "userId                                                                    \n",
       "1          4.00    2.75    4.00    2.75    2.75    4.00    2.75    2.75   \n",
       "2          2.75    2.75    2.75    2.75    2.75    2.75    2.75    2.75   \n",
       "3          2.75    2.75    2.75    2.75    2.75    2.75    2.75    2.75   \n",
       "4          2.75    2.75    2.75    2.75    2.75    2.75    2.75    2.75   \n",
       "5          4.00    2.75    2.75    2.75    2.75    2.75    2.75    2.75   \n",
       "\n",
       "movieId  9       10      ...  193565  193567  193571  193573  193579  193581  \\\n",
       "userId                   ...                                                   \n",
       "1          2.75    2.75  ...    2.75    2.75    2.75    2.75    2.75    2.75   \n",
       "2          2.75    2.75  ...    2.75    2.75    2.75    2.75    2.75    2.75   \n",
       "3          2.75    2.75  ...    2.75    2.75    2.75    2.75    2.75    2.75   \n",
       "4          2.75    2.75  ...    2.75    2.75    2.75    2.75    2.75    2.75   \n",
       "5          2.75    2.75  ...    2.75    2.75    2.75    2.75    2.75    2.75   \n",
       "\n",
       "movieId  193583  193585  193587  193609  \n",
       "userId                                   \n",
       "1          2.75    2.75    2.75    2.75  \n",
       "2          2.75    2.75    2.75    2.75  \n",
       "3          2.75    2.75    2.75    2.75  \n",
       "4          2.75    2.75    2.75    2.75  \n",
       "5          2.75    2.75    2.75    2.75  \n",
       "\n",
       "[5 rows x 9724 columns]"
      ]
     },
     "execution_count": 8,
     "metadata": {},
     "output_type": "execute_result"
    }
   ],
   "source": [
    "df_D = df_D_NA.fillna(μ)  #fill unobserved entries with μ\n",
    "df_D.head()"
   ]
  },
  {
   "cell_type": "markdown",
   "id": "5465653c-3d0d-46b1-ada1-538f106baa9b",
   "metadata": {},
   "source": [
    "The matrix `Id_NA` indicates the missing values as a Boolean matrix."
   ]
  },
  {
   "cell_type": "code",
   "execution_count": 9,
   "id": "617fc4b7-52de-4837-a0eb-5e4a8d36c85a",
   "metadata": {},
   "outputs": [
    {
     "data": {
      "text/plain": [
       "array([[False,  True, False, ...,  True,  True,  True],\n",
       "       [ True,  True,  True, ...,  True,  True,  True],\n",
       "       [ True,  True,  True, ...,  True,  True,  True],\n",
       "       ...,\n",
       "       [False, False, False, ...,  True,  True,  True],\n",
       "       [False,  True,  True, ...,  True,  True,  True],\n",
       "       [False,  True,  True, ...,  True,  True,  True]])"
      ]
     },
     "execution_count": 9,
     "metadata": {},
     "output_type": "execute_result"
    }
   ],
   "source": [
    "Id_NA = df_D_NA.isna().to_numpy()\n",
    "Id_NA"
   ]
  },
  {
   "cell_type": "code",
   "execution_count": 10,
   "id": "9c64b5af-57df-401f-a39a-d102230539a0",
   "metadata": {},
   "outputs": [
    {
     "name": "stdout",
     "output_type": "stream",
     "text": [
      "(610, 9724)\n"
     ]
    }
   ],
   "source": [
    "# ensure Id_NA and df_D have the same shape\n",
    "assert Id_NA.shape == df_D.shape\n",
    "print(df_D.shape)"
   ]
  },
  {
   "cell_type": "markdown",
   "id": "d534867e-9cdf-486e-8e37-9d4040cca139",
   "metadata": {},
   "source": [
    "You can search for the movieIds of titles as follows:"
   ]
  },
  {
   "cell_type": "code",
   "execution_count": 11,
   "id": "c686e20c-98e4-4ae7-a4ab-1c5f26cce411",
   "metadata": {},
   "outputs": [
    {
     "data": {
      "text/html": [
       "<div>\n",
       "<style scoped>\n",
       "    .dataframe tbody tr th:only-of-type {\n",
       "        vertical-align: middle;\n",
       "    }\n",
       "\n",
       "    .dataframe tbody tr th {\n",
       "        vertical-align: top;\n",
       "    }\n",
       "\n",
       "    .dataframe thead th {\n",
       "        text-align: right;\n",
       "    }\n",
       "</style>\n",
       "<table border=\"1\" class=\"dataframe\">\n",
       "  <thead>\n",
       "    <tr style=\"text-align: right;\">\n",
       "      <th></th>\n",
       "      <th>movieId</th>\n",
       "      <th>title</th>\n",
       "      <th>genres</th>\n",
       "    </tr>\n",
       "  </thead>\n",
       "  <tbody>\n",
       "    <tr>\n",
       "      <th>224</th>\n",
       "      <td>260</td>\n",
       "      <td>Star Wars: Episode IV - A New Hope (1977)</td>\n",
       "      <td>Action|Adventure|Sci-Fi</td>\n",
       "    </tr>\n",
       "    <tr>\n",
       "      <th>898</th>\n",
       "      <td>1196</td>\n",
       "      <td>Star Wars: Episode V - The Empire Strikes Back...</td>\n",
       "      <td>Action|Adventure|Sci-Fi</td>\n",
       "    </tr>\n",
       "    <tr>\n",
       "      <th>911</th>\n",
       "      <td>1210</td>\n",
       "      <td>Star Wars: Episode VI - Return of the Jedi (1983)</td>\n",
       "      <td>Action|Adventure|Sci-Fi</td>\n",
       "    </tr>\n",
       "    <tr>\n",
       "      <th>1979</th>\n",
       "      <td>2628</td>\n",
       "      <td>Star Wars: Episode I - The Phantom Menace (1999)</td>\n",
       "      <td>Action|Adventure|Sci-Fi</td>\n",
       "    </tr>\n",
       "    <tr>\n",
       "      <th>3832</th>\n",
       "      <td>5378</td>\n",
       "      <td>Star Wars: Episode II - Attack of the Clones (...</td>\n",
       "      <td>Action|Adventure|Sci-Fi|IMAX</td>\n",
       "    </tr>\n",
       "    <tr>\n",
       "      <th>5896</th>\n",
       "      <td>33493</td>\n",
       "      <td>Star Wars: Episode III - Revenge of the Sith (...</td>\n",
       "      <td>Action|Adventure|Sci-Fi</td>\n",
       "    </tr>\n",
       "    <tr>\n",
       "      <th>6823</th>\n",
       "      <td>61160</td>\n",
       "      <td>Star Wars: The Clone Wars (2008)</td>\n",
       "      <td>Action|Adventure|Animation|Sci-Fi</td>\n",
       "    </tr>\n",
       "    <tr>\n",
       "      <th>7367</th>\n",
       "      <td>79006</td>\n",
       "      <td>Empire of Dreams: The Story of the 'Star Wars'...</td>\n",
       "      <td>Documentary</td>\n",
       "    </tr>\n",
       "    <tr>\n",
       "      <th>8683</th>\n",
       "      <td>122886</td>\n",
       "      <td>Star Wars: Episode VII - The Force Awakens (2015)</td>\n",
       "      <td>Action|Adventure|Fantasy|Sci-Fi|IMAX</td>\n",
       "    </tr>\n",
       "    <tr>\n",
       "      <th>8908</th>\n",
       "      <td>135216</td>\n",
       "      <td>The Star Wars Holiday Special (1978)</td>\n",
       "      <td>Adventure|Children|Comedy|Sci-Fi</td>\n",
       "    </tr>\n",
       "    <tr>\n",
       "      <th>9433</th>\n",
       "      <td>166528</td>\n",
       "      <td>Rogue One: A Star Wars Story (2016)</td>\n",
       "      <td>Action|Adventure|Fantasy|Sci-Fi</td>\n",
       "    </tr>\n",
       "    <tr>\n",
       "      <th>9645</th>\n",
       "      <td>179819</td>\n",
       "      <td>Star Wars: The Last Jedi (2017)</td>\n",
       "      <td>Action|Adventure|Fantasy|Sci-Fi</td>\n",
       "    </tr>\n",
       "    <tr>\n",
       "      <th>9710</th>\n",
       "      <td>187595</td>\n",
       "      <td>Solo: A Star Wars Story (2018)</td>\n",
       "      <td>Action|Adventure|Children|Sci-Fi</td>\n",
       "    </tr>\n",
       "  </tbody>\n",
       "</table>\n",
       "</div>"
      ],
      "text/plain": [
       "      movieId                                              title  \\\n",
       "224       260          Star Wars: Episode IV - A New Hope (1977)   \n",
       "898      1196  Star Wars: Episode V - The Empire Strikes Back...   \n",
       "911      1210  Star Wars: Episode VI - Return of the Jedi (1983)   \n",
       "1979     2628   Star Wars: Episode I - The Phantom Menace (1999)   \n",
       "3832     5378  Star Wars: Episode II - Attack of the Clones (...   \n",
       "5896    33493  Star Wars: Episode III - Revenge of the Sith (...   \n",
       "6823    61160                   Star Wars: The Clone Wars (2008)   \n",
       "7367    79006  Empire of Dreams: The Story of the 'Star Wars'...   \n",
       "8683   122886  Star Wars: Episode VII - The Force Awakens (2015)   \n",
       "8908   135216               The Star Wars Holiday Special (1978)   \n",
       "9433   166528                Rogue One: A Star Wars Story (2016)   \n",
       "9645   179819                    Star Wars: The Last Jedi (2017)   \n",
       "9710   187595                     Solo: A Star Wars Story (2018)   \n",
       "\n",
       "                                    genres  \n",
       "224                Action|Adventure|Sci-Fi  \n",
       "898                Action|Adventure|Sci-Fi  \n",
       "911                Action|Adventure|Sci-Fi  \n",
       "1979               Action|Adventure|Sci-Fi  \n",
       "3832          Action|Adventure|Sci-Fi|IMAX  \n",
       "5896               Action|Adventure|Sci-Fi  \n",
       "6823     Action|Adventure|Animation|Sci-Fi  \n",
       "7367                           Documentary  \n",
       "8683  Action|Adventure|Fantasy|Sci-Fi|IMAX  \n",
       "8908      Adventure|Children|Comedy|Sci-Fi  \n",
       "9433       Action|Adventure|Fantasy|Sci-Fi  \n",
       "9645       Action|Adventure|Fantasy|Sci-Fi  \n",
       "9710      Action|Adventure|Children|Sci-Fi  "
      ]
     },
     "execution_count": 11,
     "metadata": {},
     "output_type": "execute_result"
    }
   ],
   "source": [
    "def search_movie_by_title(query):\n",
    "    return movies.loc[movies['title'].str.contains(query, na=False, regex=False)]\n",
    "\n",
    "search_movie_by_title(\"Star Wars\")"
   ]
  },
  {
   "cell_type": "markdown",
   "id": "434a9408-f075-431c-9997-7e5f317ab190",
   "metadata": {},
   "source": [
    "We start transforming the data frame into a numpy array"
   ]
  },
  {
   "cell_type": "code",
   "execution_count": 12,
   "id": "45dc6c51-eb8d-412c-aa2b-aec5c430857a",
   "metadata": {},
   "outputs": [
    {
     "data": {
      "text/plain": [
       "(610, 9724)"
      ]
     },
     "execution_count": 12,
     "metadata": {},
     "output_type": "execute_result"
    }
   ],
   "source": [
    "D = df_D.to_numpy()\n",
    "D.shape"
   ]
  },
  {
   "cell_type": "markdown",
   "id": "0cd20255-6d63-4d2d-b5d3-3a3897c1aab9",
   "metadata": {},
   "source": [
    "Given a `userId` and a `movieId`, we can use the following method to get the corresponding index in the data matrix `D.`  \n",
    "As parameter `df` you can use for example `df_D`."
   ]
  },
  {
   "cell_type": "code",
   "execution_count": 13,
   "id": "05dafde5-5675-4d69-8645-b29e803893ad",
   "metadata": {},
   "outputs": [],
   "source": [
    "def get_movie_index_D(df, movieId):\n",
    "    return df.columns.get_loc(movieId)\n",
    "\n",
    "def get_user_index_D(df,userId):\n",
    "    return df.index.get_loc(userId)\n",
    "\n",
    "def get_index_D(df, movieId, userId):\n",
    "    return (get_user_index_D(df,userId), get_movie_index_D(df, movieId))"
   ]
  },
  {
   "cell_type": "code",
   "execution_count": 14,
   "id": "b97e0f00-92ef-4dff-890a-4e885d386e93",
   "metadata": {},
   "outputs": [
    {
     "name": "stdout",
     "output_type": "stream",
     "text": [
      "4.0 4.0\n"
     ]
    }
   ],
   "source": [
    "# check index\n",
    "movie_id, user_id, = 3, 1\n",
    "a,b = df_D[movie_id][user_id], D[get_index_D(df_D, movie_id, user_id)]\n",
    "print(a, b)\n",
    "assert a == b"
   ]
  },
  {
   "cell_type": "markdown",
   "id": "4ce14163-c59d-437f-9f1f-d57e27ae3a93",
   "metadata": {},
   "source": [
    "Given an index from the data matrix `D`, the following methods allow us to recover the `movieId` and `userId` in the dataframe `df_D`."
   ]
  },
  {
   "cell_type": "code",
   "execution_count": 15,
   "id": "a1deaaab-32f4-4e99-9077-129f1d404148",
   "metadata": {},
   "outputs": [],
   "source": [
    "def get_movieId(df, data_index):\n",
    "    return df.columns[data_index]\n",
    "\n",
    "def get_userId(df, data_index):\n",
    "    return df.index[data_index]\n"
   ]
  },
  {
   "cell_type": "code",
   "execution_count": 16,
   "id": "57312976-4387-42b4-8e25-466288757c6f",
   "metadata": {},
   "outputs": [
    {
     "name": "stdout",
     "output_type": "stream",
     "text": [
      "4.0 4.0\n"
     ]
    }
   ],
   "source": [
    "# check ids\n",
    "movie_data_index, user_data_index = 2, 0\n",
    "a, b = (df_D[get_movieId(df_D, movie_data_index)][get_movieId(df_D, user_data_index)], D[(user_data_index, movie_data_index)])\n",
    "print(a, b)\n",
    "assert a == b"
   ]
  },
  {
   "cell_type": "code",
   "execution_count": 17,
   "id": "ca865af9-3b07-4983-a949-2c6f3b84b4e8",
   "metadata": {},
   "outputs": [
    {
     "data": {
      "text/html": [
       "<div>\n",
       "<style scoped>\n",
       "    .dataframe tbody tr th:only-of-type {\n",
       "        vertical-align: middle;\n",
       "    }\n",
       "\n",
       "    .dataframe tbody tr th {\n",
       "        vertical-align: top;\n",
       "    }\n",
       "\n",
       "    .dataframe thead th {\n",
       "        text-align: right;\n",
       "    }\n",
       "</style>\n",
       "<table border=\"1\" class=\"dataframe\">\n",
       "  <thead>\n",
       "    <tr style=\"text-align: right;\">\n",
       "      <th></th>\n",
       "      <th>movieId</th>\n",
       "      <th>title</th>\n",
       "      <th>genres</th>\n",
       "    </tr>\n",
       "  </thead>\n",
       "  <tbody>\n",
       "    <tr>\n",
       "      <th>0</th>\n",
       "      <td>1</td>\n",
       "      <td>Toy Story (1995)</td>\n",
       "      <td>Adventure|Animation|Children|Comedy|Fantasy</td>\n",
       "    </tr>\n",
       "    <tr>\n",
       "      <th>1</th>\n",
       "      <td>2</td>\n",
       "      <td>Jumanji (1995)</td>\n",
       "      <td>Adventure|Children|Fantasy</td>\n",
       "    </tr>\n",
       "    <tr>\n",
       "      <th>3</th>\n",
       "      <td>4</td>\n",
       "      <td>Waiting to Exhale (1995)</td>\n",
       "      <td>Comedy|Drama|Romance</td>\n",
       "    </tr>\n",
       "  </tbody>\n",
       "</table>\n",
       "</div>"
      ],
      "text/plain": [
       "   movieId                     title  \\\n",
       "0        1          Toy Story (1995)   \n",
       "1        2            Jumanji (1995)   \n",
       "3        4  Waiting to Exhale (1995)   \n",
       "\n",
       "                                        genres  \n",
       "0  Adventure|Animation|Children|Comedy|Fantasy  \n",
       "1                   Adventure|Children|Fantasy  \n",
       "3                         Comedy|Drama|Romance  "
      ]
     },
     "execution_count": 17,
     "metadata": {},
     "output_type": "execute_result"
    }
   ],
   "source": [
    "def get_movies(movieIds):\n",
    "    return movies.loc[movies[\"movieId\"].isin(movieIds)]\n",
    "\n",
    "# check results\n",
    "interesting_movieIds = [4,1,2]\n",
    "df_result = get_movies(interesting_movieIds)\n",
    "\n",
    "assert  df_result[\"movieId\"].to_list() == sorted(interesting_movieIds)\n",
    "df_result"
   ]
  },
  {
   "cell_type": "markdown",
   "id": "898a3e9a-7848-417e-92e2-9babdd67e4b7",
   "metadata": {},
   "source": [
    "Next we have two use cases for the functions we defined so far."
   ]
  },
  {
   "cell_type": "markdown",
   "id": "da848a08-f99b-46be-81be-566b85b10d1a",
   "metadata": {},
   "source": [
    "**Case 1.** find the favorite movies of a user (userId=61)"
   ]
  },
  {
   "cell_type": "code",
   "execution_count": 18,
   "id": "6b9ffc86-7da8-4655-ac5b-9da42f3274e4",
   "metadata": {},
   "outputs": [
    {
     "data": {
      "text/html": [
       "<div>\n",
       "<style scoped>\n",
       "    .dataframe tbody tr th:only-of-type {\n",
       "        vertical-align: middle;\n",
       "    }\n",
       "\n",
       "    .dataframe tbody tr th {\n",
       "        vertical-align: top;\n",
       "    }\n",
       "\n",
       "    .dataframe thead th {\n",
       "        text-align: right;\n",
       "    }\n",
       "</style>\n",
       "<table border=\"1\" class=\"dataframe\">\n",
       "  <thead>\n",
       "    <tr style=\"text-align: right;\">\n",
       "      <th></th>\n",
       "      <th>movieId</th>\n",
       "      <th>title</th>\n",
       "      <th>genres</th>\n",
       "    </tr>\n",
       "  </thead>\n",
       "  <tbody>\n",
       "    <tr>\n",
       "      <th>277</th>\n",
       "      <td>318</td>\n",
       "      <td>Shawshank Redemption, The (1994)</td>\n",
       "      <td>Crime|Drama</td>\n",
       "    </tr>\n",
       "    <tr>\n",
       "      <th>1002</th>\n",
       "      <td>1304</td>\n",
       "      <td>Butch Cassidy and the Sundance Kid (1969)</td>\n",
       "      <td>Action|Western</td>\n",
       "    </tr>\n",
       "  </tbody>\n",
       "</table>\n",
       "</div>"
      ],
      "text/plain": [
       "      movieId                                      title          genres\n",
       "277       318           Shawshank Redemption, The (1994)     Crime|Drama\n",
       "1002     1304  Butch Cassidy and the Sundance Kid (1969)  Action|Western"
      ]
     },
     "execution_count": 18,
     "metadata": {},
     "output_type": "execute_result"
    }
   ],
   "source": [
    "# find favorite movies of the userId=61\n",
    "user_index = get_user_index_D(df_D, 61)\n",
    "favorite_movies = D[user_index] == D[user_index].max()\n",
    "# get corresponding movieIds\n",
    "movieIds = get_movieId(df_D, favorite_movies)\n",
    "# recover the details about the movies\n",
    "get_movies(movieIds)"
   ]
  },
  {
   "cell_type": "markdown",
   "id": "f5d1d73e-53dc-4fb9-b0a0-64908d16c729",
   "metadata": {},
   "source": [
    "**Case 2.** Find the number of users rate \"Shawshank Redemption, The (1994)\" with a 5"
   ]
  },
  {
   "cell_type": "code",
   "execution_count": 19,
   "id": "9dc011d8-107e-4ec0-87dc-15146233ca59",
   "metadata": {},
   "outputs": [
    {
     "data": {
      "text/html": [
       "<div>\n",
       "<style scoped>\n",
       "    .dataframe tbody tr th:only-of-type {\n",
       "        vertical-align: middle;\n",
       "    }\n",
       "\n",
       "    .dataframe tbody tr th {\n",
       "        vertical-align: top;\n",
       "    }\n",
       "\n",
       "    .dataframe thead th {\n",
       "        text-align: right;\n",
       "    }\n",
       "</style>\n",
       "<table border=\"1\" class=\"dataframe\">\n",
       "  <thead>\n",
       "    <tr style=\"text-align: right;\">\n",
       "      <th></th>\n",
       "      <th>movieId</th>\n",
       "      <th>title</th>\n",
       "      <th>genres</th>\n",
       "    </tr>\n",
       "  </thead>\n",
       "  <tbody>\n",
       "    <tr>\n",
       "      <th>277</th>\n",
       "      <td>318</td>\n",
       "      <td>Shawshank Redemption, The (1994)</td>\n",
       "      <td>Crime|Drama</td>\n",
       "    </tr>\n",
       "  </tbody>\n",
       "</table>\n",
       "</div>"
      ],
      "text/plain": [
       "     movieId                             title       genres\n",
       "277      318  Shawshank Redemption, The (1994)  Crime|Drama"
      ]
     },
     "execution_count": 19,
     "metadata": {},
     "output_type": "execute_result"
    }
   ],
   "source": [
    "search_movie_by_title(\"Shawshank\")"
   ]
  },
  {
   "cell_type": "code",
   "execution_count": 20,
   "id": "79bb93e6-454e-4039-8989-d4977d2d2a4d",
   "metadata": {},
   "outputs": [
    {
     "data": {
      "text/plain": [
       "153"
      ]
     },
     "execution_count": 20,
     "metadata": {},
     "output_type": "execute_result"
    }
   ],
   "source": [
    "users_that_like_shawshank = D[:, get_movie_index_D(df_D, 318)] == 5.0\n",
    "users_that_like_shawshank.sum()"
   ]
  },
  {
   "cell_type": "markdown",
   "id": "ac6ef4a8-2e33-45f7-9940-12bba0465ee1",
   "metadata": {},
   "source": [
    "# Question. Recommendations by SVD"
   ]
  },
  {
   "cell_type": "markdown",
   "id": "fe83a94d-2ace-4881-9116-256993b312b0",
   "metadata": {},
   "source": [
    "Determine a rank $r=5$ matrix factorization recommendation model by truncated SVD (as presented in the lecture).\n",
    "We say that a user should get a specified movie recommended if the SVD approximates the missing rating for that user and movie with a value higher than the mean (above 2.75). Correspondingly, the user should not get a specified movie recommended if the SVD returns an approximation lower than the mean for that user and movie (below 2.75) or if the user already rated the movie.\n",
    "\n",
    "For each of the following statements, analyze the truncated SVD to determine whether they are true or false.\n",
    "\n",
    "**Note:** the data matrix is now notably bigger than the toy examples of the lecture. If you use the `np.linalg.svd` function, set the parameter `full_matrices=False` to speed up this function. "
   ]
  },
  {
   "cell_type": "code",
   "execution_count": 21,
   "id": "0ddee973-3ee1-4481-b2e5-7341feeca495",
   "metadata": {},
   "outputs": [],
   "source": [
    "def truncated_svd(D, r):\n",
    "    # TODO: compute the truncated svd\n",
    "    return np.zeros((D.shape[0], r)), np.zeros((r, r)), np.zeros((r, D.shape[1]))\n",
    "\n",
    "# check the dimensions\n",
    "n_components = 5\n",
    "truncated_U, truncated_sigma, truncated_Vt = truncated_svd(D, n_components)\n",
    "\n",
    "assert truncated_U.shape == (df_D.shape[0], n_components)\n",
    "assert truncated_sigma.shape == (n_components, n_components)\n",
    "assert truncated_Vt.shape == (n_components, df_D.shape[1])"
   ]
  },
  {
   "cell_type": "markdown",
   "id": "cc13c700-e10c-4fd0-b13c-9fb7e9b54289",
   "metadata": {},
   "source": [
    "## a\n",
    "The movie Terminator 2: Judgment Day (1991) would be recommended to approximately 91% of users who have not rated it."
   ]
  },
  {
   "cell_type": "code",
   "execution_count": 22,
   "id": "283a8bec-758d-41cd-94ee-4168621a7685",
   "metadata": {},
   "outputs": [],
   "source": [
    "title = \"Terminator 2: Judgment Day (1991)\""
   ]
  },
  {
   "cell_type": "markdown",
   "id": "baf0336c-5093-470e-b1ee-3518363bbe3a",
   "metadata": {},
   "source": [
    "## b\n",
    "Some recommendations for the user with userId = 10 would be \"GoldenEye (1995)\" and \"Aliens (1986)\""
   ]
  },
  {
   "cell_type": "code",
   "execution_count": 23,
   "id": "84671a65-de56-48fa-a8e6-a97ebed7d13b",
   "metadata": {},
   "outputs": [],
   "source": [
    "user_id_b = 10"
   ]
  },
  {
   "cell_type": "markdown",
   "id": "c9f1484b-d88c-421e-b585-dd80fa625eb8",
   "metadata": {},
   "source": [
    "## c\n",
    "\n",
    "The favorite movies of the tenth user (userId=10) are Spectre (2015) and The Intern (2015), both of which have a 5 rating.\n",
    "\n",
    "As the low-rank matrix approximation approximates the original data, it maintains a strong recommendation for these movies, with predicted rating above 4."
   ]
  },
  {
   "cell_type": "code",
   "execution_count": 24,
   "id": "c750fc91-1451-4485-a338-026960569825",
   "metadata": {},
   "outputs": [],
   "source": [
    "movie_titles = [\"Spectre (2015)\", \"The Intern (2015)\"]\n",
    "user_id_c = 10"
   ]
  },
  {
   "cell_type": "markdown",
   "id": "54655077-5477-4218-a8eb-53e327ff6aaa",
   "metadata": {},
   "source": [
    "## d\n",
    "More than 10 users get an extremly high rating (above 4.9) for an unseen movie."
   ]
  },
  {
   "cell_type": "code",
   "execution_count": 25,
   "id": "f741fed1-52ad-4380-8ef5-1fa03fa0f131",
   "metadata": {},
   "outputs": [],
   "source": [
    "threshold = 4.9"
   ]
  },
  {
   "cell_type": "markdown",
   "id": "fd929faa-ef5b-4b6e-a31d-81f1b19751c6",
   "metadata": {},
   "source": [
    "## e\n",
    "The two movies with the highest recommendation score for the user with userID=300 are: \"Pulp Fiction (1994)\" and \"Dark Knight, The (2008)\"."
   ]
  },
  {
   "cell_type": "code",
   "execution_count": 26,
   "id": "802b64df-c926-405e-b38f-ff751faaf980",
   "metadata": {},
   "outputs": [],
   "source": [
    "user_id_e = 300"
   ]
  },
  {
   "cell_type": "markdown",
   "id": "a15ad770-b1c3-4c4c-a251-b43bf669814d",
   "metadata": {},
   "source": [
    "# Olivetti Faces Preprocessing"
   ]
  },
  {
   "cell_type": "code",
   "execution_count": 1,
   "id": "d076d2aa-abcd-4409-adc4-dcc2e7b4e9e1",
   "metadata": {},
   "outputs": [
    {
     "ename": "NameError",
     "evalue": "name 'fetch_olivetti_faces' is not defined",
     "output_type": "error",
     "traceback": [
      "\u001b[1;31m---------------------------------------------------------------------------\u001b[0m",
      "\u001b[1;31mNameError\u001b[0m                                 Traceback (most recent call last)",
      "Cell \u001b[1;32mIn[1], line 1\u001b[0m\n\u001b[1;32m----> 1\u001b[0m faces \u001b[38;5;241m=\u001b[39m \u001b[43mfetch_olivetti_faces\u001b[49m()\n\u001b[0;32m      2\u001b[0m \u001b[38;5;28mprint\u001b[39m(faces\u001b[38;5;241m.\u001b[39mDESCR)\n",
      "\u001b[1;31mNameError\u001b[0m: name 'fetch_olivetti_faces' is not defined"
     ]
    }
   ],
   "source": [
    "faces = fetch_olivetti_faces()\n",
    "print(faces.DESCR)"
   ]
  },
  {
   "cell_type": "code",
   "execution_count": 28,
   "id": "cf3b6fb0-57c8-42d3-8324-6fb9b397b0fd",
   "metadata": {},
   "outputs": [
    {
     "data": {
      "image/png": "[encoded data removed]",
      "text/plain": [
       "<Figure size 200x200 with 1 Axes>"
      ]
     },
     "metadata": {},
     "output_type": "display_data"
    }
   ],
   "source": [
    "def plot_face(face, ax=None):\n",
    "    if ax is None:\n",
    "        fig, ax = plt.subplots(figsize=(2, 2))\n",
    "    ax.imshow(face.reshape(64, 64), cmap=plt.cm.gray)\n",
    "    ax.axis('off')\n",
    "    return ax\n",
    "_ = plot_face(faces.data[0])"
   ]
  },
  {
   "cell_type": "code",
   "execution_count": 29,
   "id": "064f6207-1b68-4d73-81aa-0d7d1d9bf975",
   "metadata": {},
   "outputs": [
    {
     "data": {
      "image/png": "[encoded data removed]",
      "text/plain": [
       "<Figure size 1000x300 with 30 Axes>"
      ]
     },
     "metadata": {},
     "output_type": "display_data"
    }
   ],
   "source": [
    "# Here are the first thirty pictures of the dataset\n",
    "# Notice that each row contains 10 pictures of the same subject\n",
    "fig, axes = plt.subplots(3,10, figsize=(10, 3))\n",
    "for i in range(30):\n",
    "    plot_face(faces.data[i].reshape(64, 64), axes.flatten()[i])\n",
    "plt.show()"
   ]
  },
  {
   "cell_type": "code",
   "execution_count": 30,
   "id": "e0ade1d8-68ad-40a0-b3d6-06937d41343b",
   "metadata": {},
   "outputs": [],
   "source": [
    "D = faces.data"
   ]
  },
  {
   "cell_type": "markdown",
   "id": "f9e9380b-336a-48d1-ab20-dd3c8b482374",
   "metadata": {},
   "source": [
    "# PCA Faces"
   ]
  },
  {
   "cell_type": "code",
   "execution_count": 31,
   "id": "f8965c18-d5a3-4a6b-9e0c-0b50f6bac92a",
   "metadata": {},
   "outputs": [],
   "source": [
    "n, d = D.shape\n",
    "r = 25\n",
    "USER_ID = 123"
   ]
  },
  {
   "cell_type": "code",
   "execution_count": 32,
   "id": "89603764-5d9a-4bca-acfb-90be13234e38",
   "metadata": {},
   "outputs": [
    {
     "data": {
      "image/png": "[encoded data removed]",
      "text/plain": [
       "<Figure size 200x200 with 1 Axes>"
      ]
     },
     "metadata": {},
     "output_type": "display_data"
    }
   ],
   "source": [
    "expected_shape = (1, d)\n",
    "def μF(D):\n",
    "    return np.zeros(expected_shape)\n",
    "\n",
    "assert μF(D).shape == expected_shape\n",
    "_ = plot_face(μF(D))"
   ]
  },
  {
   "cell_type": "code",
   "execution_count": 33,
   "id": "5fd276cb-eba6-47f7-ba5a-6dbc0fcd4044",
   "metadata": {},
   "outputs": [
    {
     "data": {
      "image/png": "[encoded data removed]",
      "text/plain": [
       "<Figure size 200x200 with 1 Axes>"
      ]
     },
     "metadata": {},
     "output_type": "display_data"
    }
   ],
   "source": [
    "expected_shape = (n, d)\n",
    "def center_data(D):\n",
    "    return np.zeros(expected_shape)\n",
    "assert center_data(D).shape == expected_shape\n",
    "\n",
    "_ = plot_face(center_data(D)[USER_ID])"
   ]
  },
  {
   "cell_type": "code",
   "execution_count": 34,
   "id": "31ff7562-38a4-4218-b225-fc25f7a3ed49",
   "metadata": {},
   "outputs": [
    {
     "data": {
      "image/png": "[encoded data removed]",
      "text/plain": [
       "<Figure size 200x200 with 1 Axes>"
      ]
     },
     "metadata": {},
     "output_type": "display_data"
    }
   ],
   "source": [
    "expected_shape = [(n, r), (d, r)]\n",
    "\n",
    "def PCA(D, n_components=1):\n",
    "    return np.zeros(expected_shape[0]), np.zeros(expected_shape[1])\n",
    "\n",
    "low_dimention_D, components = PCA(D, r)\n",
    "\n",
    "assert low_dimention_D.shape == expected_shape[0]\n",
    "assert components.shape == expected_shape[1]\n",
    "\n",
    "_ = plot_face(components.T[0])"
   ]
  },
  {
   "cell_type": "markdown",
   "id": "521deb05-f60f-429c-b4ab-8adaa39ab1c0",
   "metadata": {},
   "source": [
    "Let us denote by $D' =C V_{\\cdot\\mathcal{R}}$ the low-dimensional $n\\times r$ data representation returned by PCA.\n",
    "\n",
    "We can reconstruct our data as follows $\\tilde{D} = D'V_{\\cdot \\mathcal{R}}^\\top+\\mu_{\\mathtt{F}}^\\top.$\n"
   ]
  },
  {
   "cell_type": "code",
   "execution_count": 35,
   "id": "b3688962-7cda-4609-a311-390988b5805f",
   "metadata": {},
   "outputs": [],
   "source": [
    "expected_shape = (n, d)\n",
    "\n",
    "def reconstruct(low_dimention_D, components, μ):\n",
    "    return np.zeros(expected_shape)\n",
    "assert reconstruct(*PCA(D, 3), μF(D)).shape == expected_shape"
   ]
  },
  {
   "cell_type": "markdown",
   "id": "371a312d-f329-42f6-ae9a-6377b6fa6606",
   "metadata": {},
   "source": [
    "**TIP:** Compare a reconstructed image with the original"
   ]
  },
  {
   "cell_type": "markdown",
   "id": "5a739981-0618-4d4e-bee7-9db6d78e8abc",
   "metadata": {},
   "source": [
    "# SOLUTION PCA\n",
    "\n"
   ]
  },
  {
   "cell_type": "markdown",
   "id": "31fe71b2-5c14-4ca3-a128-8b9212ebd52e",
   "metadata": {},
   "source": [
    "## a\n",
    "Let us denote by $D' =C V_{\\cdot\\mathcal{R}}$ the low-dimensional $n\\times r$ data representation returned by PCA. We can reconstruct our data as follows $$\\tilde{D} = D'V_{\\cdot \\mathcal{R}}^\\top+\\mu_{\\mathtt{F}}^\\top.$$\n",
    "Now, let us consider some of the elements necessary to compute the PCA with $r=25$ components and reconstruct the 124th entry (index = 123).\n",
    "\n",
    "Match each of the elements $μ_{\\text{F}}$, $D_{124~\\cdot}$, $C_{124~\\cdot}$, and $\\tilde{D}_{124~\\cdot}$ with its corresponding picture.\n"
   ]
  },
  {
   "cell_type": "code",
   "execution_count": 36,
   "id": "2c20175e-7c09-41d8-91e5-ae1faa4eae7b",
   "metadata": {},
   "outputs": [],
   "source": [
    "n, d = D.shape\n",
    "r = 25\n",
    "USER_ID = 123"
   ]
  },
  {
   "cell_type": "markdown",
   "id": "7df207a7-7351-461e-b67a-82ee12b82667",
   "metadata": {},
   "source": [
    "## b\n",
    "\n",
    "The reconstructions of the pictures look quite good when we use 100 principal components. Hence, a dimensionality reduction to 100 by PCA is suitable for this dataset.\n",
    "\n",
    "Match the reconstruction of the 151st example (index 150) using 10, 50, and 100 principal components with the corresponding picture."
   ]
  },
  {
   "cell_type": "code",
   "execution_count": 37,
   "id": "872d91cb-feb6-44ac-8cb1-82884bbc39d0",
   "metadata": {},
   "outputs": [],
   "source": [
    "row_idx = 150\n",
    "potential_n_components = [10,  50, 100]"
   ]
  },
  {
   "cell_type": "markdown",
   "id": "6ed6331d-5360-4486-ae7c-e2b2a67c5e6e",
   "metadata": {},
   "source": [
    "## c\n",
    "\n",
    "The following plot shows the low-dimensional representation of the 2nd, 3rd, 6th, and 8th persons (index 10-19, 20-29, 50-59, and 70-79, respectively) computed with PCA of dimension $r=2$.\n",
    "\n",
    "Match the labels (A, B, C, D) with the corresponding person (2nd, 3rd, 6th, and 8th).\n",
    "\n"
   ]
  },
  {
   "cell_type": "code",
   "execution_count": 38,
   "id": "3a8d8958-3612-4ace-ae7a-1807a25cbd5d",
   "metadata": {},
   "outputs": [],
   "source": [
    "r=2\n",
    "initial_index = [10,20,50,70]"
   ]
  },
  {
   "cell_type": "markdown",
   "id": "53f0a329-2a5c-4fc1-a673-5a7e6325e6b6",
   "metadata": {},
   "source": [
    "## d\n",
    "\n",
    "The explained variance indicates how much of the variability of the data is captured by each of the PCA components.\n",
    "\n",
    "How many components are necessary to capture 38% of the data variability?\n"
   ]
  },
  {
   "cell_type": "code",
   "execution_count": 39,
   "id": "5df333db-0bb6-4dad-96ff-1cdb6ff56650",
   "metadata": {},
   "outputs": [],
   "source": [
    "threshold = 0.38"
   ]
  },
  {
   "cell_type": "markdown",
   "id": "0b979502-4b6b-49fe-b210-108cfa542c9a",
   "metadata": {},
   "source": [
    "## e\n",
    "\n",
    "What ratio of the data variability is explained by the third principal component? Round the answer (value between 0 and 1) to at least two decimal points."
   ]
  },
  {
   "cell_type": "code",
   "execution_count": 40,
   "id": "ff1335d1-6249-48b8-b108-be7dd701543f",
   "metadata": {},
   "outputs": [],
   "source": [
    "component_index = 2"
   ]
  },
  {
   "cell_type": "markdown",
   "id": "a502022e-a579-44fc-b889-44e231c79492",
   "metadata": {},
   "source": [
    "# Clustering\n",
    "\n",
    "In this exercise, we also work with the Olivetti faces dataset. In particular, we consider only a subset from the the 51th to 100th (indexes 50 to 99) entries of the dataset, which contains five subjects and ten pictures for each subject.\n",
    "\n",
    "We start by examining the sensitivity of the k-means algorithm to the initial centroids.\n",
    "Then, we investigate how to find the best value of $k$.\n",
    "\n",
    "We consider two metrics during the exercise.\n",
    "- the distance between points within the clusters (as described in the lecture), and\n",
    "- the [silhouette score](https://scikit-learn.org/1.5/modules/generated/sklearn.metrics.silhouette_score.html), as provided by sklearn."
   ]
  },
  {
   "cell_type": "code",
   "execution_count": 41,
   "id": "dfbdd26b-1a9c-4fe6-ace1-7f11ba255dc2",
   "metadata": {},
   "outputs": [],
   "source": [
    "from sklearn.cluster import KMeans\n",
    "from collections import Counter\n",
    "from sklearn.metrics import silhouette_score, silhouette_samples\n",
    "\n",
    "from tqdm.notebook import tqdm"
   ]
  },
  {
   "cell_type": "code",
   "execution_count": 42,
   "id": "702f47d1-36c3-4f7c-ae76-87ea9fa8cc8e",
   "metadata": {},
   "outputs": [],
   "source": [
    "X = D[50:100,:]"
   ]
  },
  {
   "cell_type": "markdown",
   "id": "4cf7a93b-7d59-4f23-9e14-9eee987bd5b7",
   "metadata": {},
   "source": [
    "## part I\n",
    "\n",
    "Consider the following initial centroids:\n",
    "\n",
    "- first face of each subject: (`X[::10, :]`)\n",
    "- second face of each subject: (`X[1::10, :]`)\n",
    "- last face of each subject: (`X[9::10, :]`)\n",
    "- first k faces of the data: (`X[:n_clusters, :]`)\n",
    "- last k faces of the data: (`X[-n_clusters:, :]`)\n",
    "\n",
    "Run the k-means algorithm with k=3, initializing the centroids with each of these sets.\n",
    "To visualize the results, project the samples in first two principal components grouped according to the cluster assignments.\n",
    "\n",
    "### a \n",
    "What are the initial centroids with the best score, according to the k-means objective?\n",
    "\n",
    "### b\n",
    "Match the plot with the corresponding initial centroid."
   ]
  },
  {
   "cell_type": "markdown",
   "id": "d6eff391-f1ff-4708-a742-2d852e9c9fae",
   "metadata": {},
   "source": [
    "## part II\n",
    "\n",
    "Make plots showing the k-means objective and the silhouette score, running the k-means algorithms with different values for $k$: $\\{2, 3, \\dots, 9\\}$, using the first $k$ entries of the dataset as the initial centroids.\n",
    "\n",
    "### c\n",
    "Upload the plot showing the distance between points within the clusters for each value of $k$.\n",
    "\n",
    "### d\n",
    "Which $k$ achieves the best k-means objective? What is the corresponding value?\n",
    "\n",
    "\n",
    "### e\n",
    "\n",
    "Upload the plot showing the average silhouette score for each $k$.\n",
    "\n",
    "### f\n",
    "\n",
    "Which $k$ achieves the best silhouette score on average? What is the corresponding value?"
   ]
  },
  {
   "cell_type": "code",
   "execution_count": 43,
   "id": "27c439e7-4970-4703-873b-e84452328008",
   "metadata": {},
   "outputs": [],
   "source": [
    "candidates = range(2,10)"
   ]
  }
 ],
 "metadata": {
  "kernelspec": {
   "display_name": "Python 3 (ipykernel)",
   "language": "python",
   "name": "python3"
  },
  "language_info": {
   "codemirror_mode": {
    "name": "ipython",
    "version": 3
   },
   "file_extension": ".py",
   "mimetype": "text/x-python",
   "name": "python",
   "nbconvert_exporter": "python",
   "pygments_lexer": "ipython3",
   "version": "3.10.9"
  }
 },
 "nbformat": 4,
 "nbformat_minor": 5
}
