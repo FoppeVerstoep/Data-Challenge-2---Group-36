{
 "cells": [
  {
   "cell_type": "code",
   "execution_count": 2,
   "id": "440895fc",
   "metadata": {},
   "outputs": [],
   "source": [
    "#1 Loading the Data\n",
    "import matplotlib.pyplot as plt\n",
    "import pandas as pd\n",
    "import os\n",
    "if os.path.isdir('Graphs') == False:\n",
    "    os.mkdir('Graphs')\n",
    "burglar_df = pd.read_csv('Burglars.csv')"
   ]
  },
  {
   "cell_type": "code",
   "execution_count": null,
   "id": "934a7d13",
   "metadata": {},
   "outputs": [],
   "source": [
    "#2 Grouping by LSOA\n"
   ]
  }
 ],
 "metadata": {
  "kernelspec": {
   "display_name": "Python 3 (ipykernel)",
   "language": "python",
   "name": "python3"
  },
  "language_info": {
   "codemirror_mode": {
    "name": "ipython",
    "version": 3
   },
   "file_extension": ".py",
   "mimetype": "text/x-python",
   "name": "python",
   "nbconvert_exporter": "python",
   "pygments_lexer": "ipython3",
   "version": "3.10.12"
  }
 },
 "nbformat": 4,
 "nbformat_minor": 5
}
